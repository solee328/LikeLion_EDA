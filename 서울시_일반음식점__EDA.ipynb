{
  "nbformat": 4,
  "nbformat_minor": 0,
  "metadata": {
    "colab": {
      "name": "서울시 일반음식점_ EDA.ipynb",
      "provenance": [],
      "authorship_tag": "ABX9TyPE0K8h6GADgfFGhajLYufc",
      "include_colab_link": true
    },
    "kernelspec": {
      "name": "python3",
      "display_name": "Python 3"
    },
    "language_info": {
      "name": "python"
    }
  },
  "cells": [
    {
      "cell_type": "markdown",
      "metadata": {
        "id": "view-in-github",
        "colab_type": "text"
      },
      "source": [
        "<a href=\"https://colab.research.google.com/github/solee328/LikeLion_EDA/blob/ah-hyeon/%EC%84%9C%EC%9A%B8%EC%8B%9C_%EC%9D%BC%EB%B0%98%EC%9D%8C%EC%8B%9D%EC%A0%90__EDA.ipynb\" target=\"_parent\"><img src=\"https://colab.research.google.com/assets/colab-badge.svg\" alt=\"Open In Colab\"/></a>"
      ]
    },
    {
      "cell_type": "markdown",
      "metadata": {
        "id": "iaLmVMgHqku3"
      },
      "source": [
        ""
      ]
    },
    {
      "cell_type": "code",
      "metadata": {
        "colab": {
          "base_uri": "https://localhost:8080/"
        },
        "id": "s3dAZK9IoXVT",
        "outputId": "3d39ee0d-50ad-4bbe-d6c1-127ce0eda985"
      },
      "source": [
        "!git clone https://github.com/solee328/LikeLion_EDA.git"
      ],
      "execution_count": 64,
      "outputs": [
        {
          "output_type": "stream",
          "text": [
            "fatal: destination path 'LikeLion_EDA' already exists and is not an empty directory.\n"
          ],
          "name": "stdout"
        }
      ]
    },
    {
      "cell_type": "code",
      "metadata": {
        "colab": {
          "base_uri": "https://localhost:8080/"
        },
        "id": "C8DDZzA_otOE",
        "outputId": "ecd7f7ad-4f88-4d92-b9fa-ba87d77c204e"
      },
      "source": [
        "!ls -ltr"
      ],
      "execution_count": 65,
      "outputs": [
        {
          "output_type": "stream",
          "text": [
            "total 182128\n",
            "drwxr-xr-x 1 root root      4096 Mar 25 13:38  sample_data\n",
            "-rw-r--r-- 1 root root 176887030 Apr  6 15:46 '서울특별시 일반음식점 인허가 정보.csv'\n",
            "-rw-r--r-- 1 root root   9595100 Apr  6 15:56  malgun.ttf\n",
            "drwxr-xr-x 3 root root      4096 Apr  6 19:22  LikeLion_EDA\n"
          ],
          "name": "stdout"
        }
      ]
    },
    {
      "cell_type": "code",
      "metadata": {
        "id": "1uNNQ70qznQ-"
      },
      "source": [
        "import pandas as pd\n",
        "import numpy as np\n",
        "import matplotlib\n",
        "import matplotlib.pyplot as plt\n",
        "import seaborn as sns\n",
        "import warnings\n",
        "warnings.filterwarnings('ignore')\n"
      ],
      "execution_count": 33,
      "outputs": []
    },
    {
      "cell_type": "code",
      "metadata": {
        "colab": {
          "base_uri": "https://localhost:8080/"
        },
        "id": "Au4JlsPXzuNv",
        "outputId": "479c1244-6182-4ee5-e983-41586efe8168"
      },
      "source": [
        "df = pd.read_csv(\"/content/서울특별시 일반음식점 인허가 정보.csv\", delimiter=',', encoding='CP949')\n",
        "print(df.shape)\n",
        "print(df.info())\n",
        "print(df.head())\n",
        "\n",
        "print('결측치 확인;\\n',df.isna().sum())\n"
      ],
      "execution_count": 55,
      "outputs": [
        {
          "output_type": "stream",
          "text": [
            "(461559, 44)\n",
            "<class 'pandas.core.frame.DataFrame'>\n",
            "RangeIndex: 461559 entries, 0 to 461558\n",
            "Data columns (total 44 columns):\n",
            " #   Column     Non-Null Count   Dtype  \n",
            "---  ------     --------------   -----  \n",
            " 0   개방자치단체코드   461559 non-null  int64  \n",
            " 1   관리번호       461559 non-null  object \n",
            " 2   인허가일자      461559 non-null  int64  \n",
            " 3   인허가취소일자    0 non-null       float64\n",
            " 4   영업상태코드     461559 non-null  int64  \n",
            " 5   영업상태명      461559 non-null  object \n",
            " 6   상세영업상태코드   461559 non-null  int64  \n",
            " 7   상세영업상태명    461559 non-null  object \n",
            " 8   폐업일자       337740 non-null  float64\n",
            " 9   휴업시작일자     0 non-null       float64\n",
            " 10  휴업종료일자     0 non-null       float64\n",
            " 11  재개업일자      0 non-null       float64\n",
            " 12  전화번호       326595 non-null  object \n",
            " 13  소재지면적      426089 non-null  float64\n",
            " 14  소재지우편번호    461313 non-null  float64\n",
            " 15  지번주소       461321 non-null  object \n",
            " 16  도로명주소      210568 non-null  object \n",
            " 17  도로명우편번호    207111 non-null  float64\n",
            " 18  사업장명       461558 non-null  object \n",
            " 19  최종수정일자     461559 non-null  int64  \n",
            " 20  데이터갱신구분    461559 non-null  object \n",
            " 21  데이터갱신일자    461559 non-null  object \n",
            " 22  업태구분명      461539 non-null  object \n",
            " 23  좌표정보(X)    436927 non-null  float64\n",
            " 24  좌표정보(Y)    436927 non-null  float64\n",
            " 25  위생업태명      422885 non-null  object \n",
            " 26  남성종사자수     267898 non-null  float64\n",
            " 27  여성종사자수     270123 non-null  float64\n",
            " 28  영업장주변구분명   245822 non-null  object \n",
            " 29  등급구분명      236715 non-null  object \n",
            " 30  급수시설구분명    295536 non-null  object \n",
            " 31  총인원        0 non-null       float64\n",
            " 32  본사종업원수     103 non-null     float64\n",
            " 33  공장사무직종업원수  102 non-null     float64\n",
            " 34  공장판매직종업원수  102 non-null     float64\n",
            " 35  공장생산직종업원수  102 non-null     float64\n",
            " 36  건물소유구분명    1 non-null       object \n",
            " 37  보증액        103 non-null     float64\n",
            " 38  월세액        103 non-null     float64\n",
            " 39  다중이용업소여부   422902 non-null  object \n",
            " 40  시설총규모      422902 non-null  float64\n",
            " 41  전통업소지정번호   1724 non-null    object \n",
            " 42  전통업소주된음식   909 non-null     object \n",
            " 43  홈페이지       0 non-null       float64\n",
            "dtypes: float64(21), int64(5), object(18)\n",
            "memory usage: 154.9+ MB\n",
            "None\n",
            "   개방자치단체코드                    관리번호     인허가일자  ...  전통업소지정번호  전통업소주된음식 홈페이지\n",
            "0   3000000  3000000-101-2001-11784  20010214  ...       NaN       NaN  NaN\n",
            "1   3000000  3000000-101-2001-11802  20010214  ...       NaN       NaN  NaN\n",
            "2   3200000  3200000-101-2020-00255  20200602  ...       NaN       NaN  NaN\n",
            "3   3220000  3220000-101-2020-00599  20200605  ...       NaN       NaN  NaN\n",
            "4   3000000  3000000-101-2004-00032  20040127  ...       NaN       NaN  NaN\n",
            "\n",
            "[5 rows x 44 columns]\n",
            "결측치 확인;\n",
            " 개방자치단체코드          0\n",
            "관리번호              0\n",
            "인허가일자             0\n",
            "인허가취소일자      461559\n",
            "영업상태코드            0\n",
            "영업상태명             0\n",
            "상세영업상태코드          0\n",
            "상세영업상태명           0\n",
            "폐업일자         123819\n",
            "휴업시작일자       461559\n",
            "휴업종료일자       461559\n",
            "재개업일자        461559\n",
            "전화번호         134964\n",
            "소재지면적         35470\n",
            "소재지우편번호         246\n",
            "지번주소            238\n",
            "도로명주소        250991\n",
            "도로명우편번호      254448\n",
            "사업장명              1\n",
            "최종수정일자            0\n",
            "데이터갱신구분           0\n",
            "데이터갱신일자           0\n",
            "업태구분명            20\n",
            "좌표정보(X)       24632\n",
            "좌표정보(Y)       24632\n",
            "위생업태명         38674\n",
            "남성종사자수       193661\n",
            "여성종사자수       191436\n",
            "영업장주변구분명     215737\n",
            "등급구분명        224844\n",
            "급수시설구분명      166023\n",
            "총인원          461559\n",
            "본사종업원수       461456\n",
            "공장사무직종업원수    461457\n",
            "공장판매직종업원수    461457\n",
            "공장생산직종업원수    461457\n",
            "건물소유구분명      461558\n",
            "보증액          461456\n",
            "월세액          461456\n",
            "다중이용업소여부      38657\n",
            "시설총규모         38657\n",
            "전통업소지정번호     459835\n",
            "전통업소주된음식     460650\n",
            "홈페이지         461559\n",
            "dtype: int64\n"
          ],
          "name": "stdout"
        }
      ]
    },
    {
      "cell_type": "code",
      "metadata": {
        "colab": {
          "base_uri": "https://localhost:8080/",
          "height": 733
        },
        "id": "YiaFWe1c0Esd",
        "outputId": "f0323452-e3e0-4c56-a068-293b9222a610"
      },
      "source": [
        "\n",
        "df['인허가일자'] = pd.to_datetime(df['인허가일자'])\n",
        "df['폐업일자'] = pd.to_datetime(df['폐업일자'])\n",
        "df.drop(df[(df['폐업일자'].dt.year>2020)].index, inplace=True)\n",
        "df.drop(df[(df['폐업일자'].dt.year == 2020) & (df['폐업일자'].dt.month>3)].index, inplace=True)\n",
        "\n",
        "df['연도'],df['월'] = df['폐업일자'].dt.year,df['폐업일자'].dt.month\n",
        "df[['시도','시군구']] = df['도로명주소'].str.split(' ',expand=True).iloc[:,[0,1]]\n",
        "df['영업기간'] = df['폐업일자'] - df['인허가일자']\n",
        "\n",
        "seoul_food_store = df.loc[:,['시도','시군구','업태구분명','폐업일자','연도','월','인허가일자','사업장명','도로명주소','영업기간','좌표정보(X)','좌표정보(Y)']]\n",
        "\n",
        "seoul_food_store.drop(seoul_food_store[seoul_food_store['시도'].isnull()==True].index, inplace=True)\n",
        "\n",
        "seoul_food_store.tail(10)"
      ],
      "execution_count": 63,
      "outputs": [
        {
          "output_type": "execute_result",
          "data": {
            "text/html": [
              "<div>\n",
              "<style scoped>\n",
              "    .dataframe tbody tr th:only-of-type {\n",
              "        vertical-align: middle;\n",
              "    }\n",
              "\n",
              "    .dataframe tbody tr th {\n",
              "        vertical-align: top;\n",
              "    }\n",
              "\n",
              "    .dataframe thead th {\n",
              "        text-align: right;\n",
              "    }\n",
              "</style>\n",
              "<table border=\"1\" class=\"dataframe\">\n",
              "  <thead>\n",
              "    <tr style=\"text-align: right;\">\n",
              "      <th></th>\n",
              "      <th>시도</th>\n",
              "      <th>시군구</th>\n",
              "      <th>업태구분명</th>\n",
              "      <th>폐업일자</th>\n",
              "      <th>연도</th>\n",
              "      <th>월</th>\n",
              "      <th>인허가일자</th>\n",
              "      <th>사업장명</th>\n",
              "      <th>도로명주소</th>\n",
              "      <th>영업기간</th>\n",
              "      <th>좌표정보(X)</th>\n",
              "      <th>좌표정보(Y)</th>\n",
              "    </tr>\n",
              "  </thead>\n",
              "  <tbody>\n",
              "    <tr>\n",
              "      <th>461549</th>\n",
              "      <td>서울특별시</td>\n",
              "      <td>강서구</td>\n",
              "      <td>한식</td>\n",
              "      <td>NaT</td>\n",
              "      <td>NaN</td>\n",
              "      <td>NaN</td>\n",
              "      <td>1970-01-01 00:00:00.019760123</td>\n",
              "      <td>공항뚝배기</td>\n",
              "      <td>서울특별시 강서구 공항대로 15 지하 1층 (공항동)</td>\n",
              "      <td>NaT</td>\n",
              "      <td>183064.578011</td>\n",
              "      <td>451093.161395</td>\n",
              "    </tr>\n",
              "    <tr>\n",
              "      <th>461550</th>\n",
              "      <td>서울특별시</td>\n",
              "      <td>중구</td>\n",
              "      <td>한식</td>\n",
              "      <td>1970-01-01 00:00:00.020210402</td>\n",
              "      <td>1970.0</td>\n",
              "      <td>1.0</td>\n",
              "      <td>1970-01-01 00:00:00.019740329</td>\n",
              "      <td>민정식당</td>\n",
              "      <td>서울특별시 중구 을지로41길 24 (을지로6가)</td>\n",
              "      <td>0 days 00:00:00.000470073</td>\n",
              "      <td>200506.529040</td>\n",
              "      <td>451639.906240</td>\n",
              "    </tr>\n",
              "    <tr>\n",
              "      <th>461551</th>\n",
              "      <td>서울특별시</td>\n",
              "      <td>강북구</td>\n",
              "      <td>한식</td>\n",
              "      <td>NaT</td>\n",
              "      <td>NaN</td>\n",
              "      <td>NaN</td>\n",
              "      <td>1970-01-01 00:00:00.019690306</td>\n",
              "      <td>당나귀집</td>\n",
              "      <td>서울특별시 강북구 덕릉로24길 13 (수유동)</td>\n",
              "      <td>NaT</td>\n",
              "      <td>201882.350000</td>\n",
              "      <td>459066.363333</td>\n",
              "    </tr>\n",
              "    <tr>\n",
              "      <th>461552</th>\n",
              "      <td>서울특별시</td>\n",
              "      <td>마포구</td>\n",
              "      <td>기타</td>\n",
              "      <td>NaT</td>\n",
              "      <td>NaN</td>\n",
              "      <td>NaN</td>\n",
              "      <td>1970-01-01 00:00:00.020210303</td>\n",
              "      <td>연탄생고기집</td>\n",
              "      <td>서울특별시 마포구 연남로13길 13 1층 (성산동)</td>\n",
              "      <td>NaT</td>\n",
              "      <td>192562.613603</td>\n",
              "      <td>451589.902289</td>\n",
              "    </tr>\n",
              "    <tr>\n",
              "      <th>461553</th>\n",
              "      <td>서울특별시</td>\n",
              "      <td>마포구</td>\n",
              "      <td>기타</td>\n",
              "      <td>NaT</td>\n",
              "      <td>NaN</td>\n",
              "      <td>NaN</td>\n",
              "      <td>1970-01-01 00:00:00.020210215</td>\n",
              "      <td>햄릿(HAMLET)</td>\n",
              "      <td>서울특별시 마포구 어울마당로 55-12 1층 (서교동)</td>\n",
              "      <td>NaT</td>\n",
              "      <td>192895.869567</td>\n",
              "      <td>449785.647679</td>\n",
              "    </tr>\n",
              "    <tr>\n",
              "      <th>461554</th>\n",
              "      <td>서울특별시</td>\n",
              "      <td>마포구</td>\n",
              "      <td>감성주점</td>\n",
              "      <td>NaT</td>\n",
              "      <td>NaN</td>\n",
              "      <td>NaN</td>\n",
              "      <td>1970-01-01 00:00:00.020191203</td>\n",
              "      <td>클럽블루프린트</td>\n",
              "      <td>서울특별시 마포구 와우산로17길 14 지1층 (서교동)</td>\n",
              "      <td>NaT</td>\n",
              "      <td>193050.191844</td>\n",
              "      <td>449790.246296</td>\n",
              "    </tr>\n",
              "    <tr>\n",
              "      <th>461555</th>\n",
              "      <td>서울특별시</td>\n",
              "      <td>마포구</td>\n",
              "      <td>일식</td>\n",
              "      <td>NaT</td>\n",
              "      <td>NaN</td>\n",
              "      <td>NaN</td>\n",
              "      <td>1970-01-01 00:00:00.020170103</td>\n",
              "      <td>빼레</td>\n",
              "      <td>서울특별시 마포구 독막로5길 23 (서교동 1층)</td>\n",
              "      <td>NaT</td>\n",
              "      <td>192705.163728</td>\n",
              "      <td>449650.883894</td>\n",
              "    </tr>\n",
              "    <tr>\n",
              "      <th>461556</th>\n",
              "      <td>서울특별시</td>\n",
              "      <td>마포구</td>\n",
              "      <td>한식</td>\n",
              "      <td>NaT</td>\n",
              "      <td>NaN</td>\n",
              "      <td>NaN</td>\n",
              "      <td>1970-01-01 00:00:00.020110610</td>\n",
              "      <td>우리닭갈비</td>\n",
              "      <td>서울특별시 마포구 어울마당로 136-5 지하1층 (서교동)</td>\n",
              "      <td>NaT</td>\n",
              "      <td>193336.038751</td>\n",
              "      <td>450412.144687</td>\n",
              "    </tr>\n",
              "    <tr>\n",
              "      <th>461557</th>\n",
              "      <td>서울특별시</td>\n",
              "      <td>마포구</td>\n",
              "      <td>까페</td>\n",
              "      <td>NaT</td>\n",
              "      <td>NaN</td>\n",
              "      <td>NaN</td>\n",
              "      <td>1970-01-01 00:00:00.020100326</td>\n",
              "      <td>제이제이</td>\n",
              "      <td>서울특별시 마포구 동교로 158 (서교동 지층)</td>\n",
              "      <td>NaT</td>\n",
              "      <td>192830.999515</td>\n",
              "      <td>450368.570888</td>\n",
              "    </tr>\n",
              "    <tr>\n",
              "      <th>461558</th>\n",
              "      <td>서울특별시</td>\n",
              "      <td>마포구</td>\n",
              "      <td>까페</td>\n",
              "      <td>NaT</td>\n",
              "      <td>NaN</td>\n",
              "      <td>NaN</td>\n",
              "      <td>1970-01-01 00:00:00.020000718</td>\n",
              "      <td>얼굴</td>\n",
              "      <td>서울특별시 마포구 잔다리로 33 (서교동)</td>\n",
              "      <td>NaT</td>\n",
              "      <td>192812.213955</td>\n",
              "      <td>449904.096594</td>\n",
              "    </tr>\n",
              "  </tbody>\n",
              "</table>\n",
              "</div>"
            ],
            "text/plain": [
              "           시도  시군구  ...        좌표정보(X)        좌표정보(Y)\n",
              "461549  서울특별시  강서구  ...  183064.578011  451093.161395\n",
              "461550  서울특별시   중구  ...  200506.529040  451639.906240\n",
              "461551  서울특별시  강북구  ...  201882.350000  459066.363333\n",
              "461552  서울특별시  마포구  ...  192562.613603  451589.902289\n",
              "461553  서울특별시  마포구  ...  192895.869567  449785.647679\n",
              "461554  서울특별시  마포구  ...  193050.191844  449790.246296\n",
              "461555  서울특별시  마포구  ...  192705.163728  449650.883894\n",
              "461556  서울특별시  마포구  ...  193336.038751  450412.144687\n",
              "461557  서울특별시  마포구  ...  192830.999515  450368.570888\n",
              "461558  서울특별시  마포구  ...  192812.213955  449904.096594\n",
              "\n",
              "[10 rows x 12 columns]"
            ]
          },
          "metadata": {
            "tags": []
          },
          "execution_count": 63
        }
      ]
    },
    {
      "cell_type": "code",
      "metadata": {
        "colab": {
          "base_uri": "https://localhost:8080/"
        },
        "id": "8-vmGrNxHtxU",
        "outputId": "63c1e521-da02-4191-a02a-709693aab7bd"
      },
      "source": [
        "#결측치 점검\n",
        "#seoul_food_store.isna().sum()"
      ],
      "execution_count": 37,
      "outputs": [
        {
          "output_type": "execute_result",
          "data": {
            "text/plain": [
              "상세영업상태명    0\n",
              "폐업일자       0\n",
              "지번주소       0\n",
              "업태구분명      0\n",
              "시          0\n",
              "구          0\n",
              "dtype: int64"
            ]
          },
          "metadata": {
            "tags": []
          },
          "execution_count": 37
        }
      ]
    },
    {
      "cell_type": "code",
      "metadata": {
        "id": "o0mGl2uRqusd"
      },
      "source": [
        "업태구문 pichart / 2017-2021 폐업수 / 2019-2021 업태별 폐업 / 2019-2021 구별폐업 / 영업기간 boxplot"
      ],
      "execution_count": null,
      "outputs": []
    }
  ]
}