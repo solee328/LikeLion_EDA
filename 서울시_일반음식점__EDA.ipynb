{
  "nbformat": 4,
  "nbformat_minor": 0,
  "metadata": {
    "colab": {
      "name": "서울시 일반음식점_ EDA.ipynb",
      "provenance": [],
      "toc_visible": true,
      "authorship_tag": "ABX9TyNBj5RxXhQc03LQgyJXvtlc",
      "include_colab_link": true
    },
    "kernelspec": {
      "name": "python3",
      "display_name": "Python 3"
    },
    "language_info": {
      "name": "python"
    }
  },
  "cells": [
    {
      "cell_type": "markdown",
      "metadata": {
        "id": "view-in-github",
        "colab_type": "text"
      },
      "source": [
        "<a href=\"https://colab.research.google.com/github/solee328/LikeLion_EDA/blob/ah-hyeon/%EC%84%9C%EC%9A%B8%EC%8B%9C_%EC%9D%BC%EB%B0%98%EC%9D%8C%EC%8B%9D%EC%A0%90__EDA.ipynb\" target=\"_parent\"><img src=\"https://colab.research.google.com/assets/colab-badge.svg\" alt=\"Open In Colab\"/></a>"
      ]
    },
    {
      "cell_type": "markdown",
      "metadata": {
        "id": "iaLmVMgHqku3"
      },
      "source": [
        ""
      ]
    },
    {
      "cell_type": "code",
      "metadata": {
        "id": "1uNNQ70qznQ-"
      },
      "source": [
        "import pandas as pd\n",
        "import numpy as np\n",
        "import matplotlib\n",
        "import matplotlib.pyplot as plt\n",
        "import seaborn as sns\n",
        "import warnings\n",
        "warnings.filterwarnings('ignore')\n"
      ],
      "execution_count": 18,
      "outputs": []
    },
    {
      "cell_type": "code",
      "metadata": {
        "colab": {
          "base_uri": "https://localhost:8080/"
        },
        "id": "Au4JlsPXzuNv",
        "outputId": "cec04bb6-581c-4139-d213-0d40401564bb"
      },
      "source": [
        "df = pd.read_csv(\"/content/서울특별시 일반음식점 인허가 정보.csv\", delimiter=',', encoding='CP949')\n",
        "print(df.shape)\n",
        "print(df.info())\n",
        "print(df.head())\n",
        "\n",
        "print('결측치 확인;\\n',df.isna().sum())\n"
      ],
      "execution_count": 19,
      "outputs": [
        {
          "output_type": "stream",
          "text": [
            "(461559, 44)\n",
            "<class 'pandas.core.frame.DataFrame'>\n",
            "RangeIndex: 461559 entries, 0 to 461558\n",
            "Data columns (total 44 columns):\n",
            " #   Column     Non-Null Count   Dtype  \n",
            "---  ------     --------------   -----  \n",
            " 0   개방자치단체코드   461559 non-null  int64  \n",
            " 1   관리번호       461559 non-null  object \n",
            " 2   인허가일자      461559 non-null  int64  \n",
            " 3   인허가취소일자    0 non-null       float64\n",
            " 4   영업상태코드     461559 non-null  int64  \n",
            " 5   영업상태명      461559 non-null  object \n",
            " 6   상세영업상태코드   461559 non-null  int64  \n",
            " 7   상세영업상태명    461559 non-null  object \n",
            " 8   폐업일자       337740 non-null  float64\n",
            " 9   휴업시작일자     0 non-null       float64\n",
            " 10  휴업종료일자     0 non-null       float64\n",
            " 11  재개업일자      0 non-null       float64\n",
            " 12  전화번호       326595 non-null  object \n",
            " 13  소재지면적      426089 non-null  float64\n",
            " 14  소재지우편번호    461313 non-null  float64\n",
            " 15  지번주소       461321 non-null  object \n",
            " 16  도로명주소      210568 non-null  object \n",
            " 17  도로명우편번호    207111 non-null  float64\n",
            " 18  사업장명       461558 non-null  object \n",
            " 19  최종수정일자     461559 non-null  int64  \n",
            " 20  데이터갱신구분    461559 non-null  object \n",
            " 21  데이터갱신일자    461559 non-null  object \n",
            " 22  업태구분명      461539 non-null  object \n",
            " 23  좌표정보(X)    436927 non-null  float64\n",
            " 24  좌표정보(Y)    436927 non-null  float64\n",
            " 25  위생업태명      422885 non-null  object \n",
            " 26  남성종사자수     267898 non-null  float64\n",
            " 27  여성종사자수     270123 non-null  float64\n",
            " 28  영업장주변구분명   245822 non-null  object \n",
            " 29  등급구분명      236715 non-null  object \n",
            " 30  급수시설구분명    295536 non-null  object \n",
            " 31  총인원        0 non-null       float64\n",
            " 32  본사종업원수     103 non-null     float64\n",
            " 33  공장사무직종업원수  102 non-null     float64\n",
            " 34  공장판매직종업원수  102 non-null     float64\n",
            " 35  공장생산직종업원수  102 non-null     float64\n",
            " 36  건물소유구분명    1 non-null       object \n",
            " 37  보증액        103 non-null     float64\n",
            " 38  월세액        103 non-null     float64\n",
            " 39  다중이용업소여부   422902 non-null  object \n",
            " 40  시설총규모      422902 non-null  float64\n",
            " 41  전통업소지정번호   1724 non-null    object \n",
            " 42  전통업소주된음식   909 non-null     object \n",
            " 43  홈페이지       0 non-null       float64\n",
            "dtypes: float64(21), int64(5), object(18)\n",
            "memory usage: 154.9+ MB\n",
            "None\n",
            "   개방자치단체코드                    관리번호     인허가일자  ...  전통업소지정번호  전통업소주된음식 홈페이지\n",
            "0   3000000  3000000-101-2001-11784  20010214  ...       NaN       NaN  NaN\n",
            "1   3000000  3000000-101-2001-11802  20010214  ...       NaN       NaN  NaN\n",
            "2   3200000  3200000-101-2020-00255  20200602  ...       NaN       NaN  NaN\n",
            "3   3220000  3220000-101-2020-00599  20200605  ...       NaN       NaN  NaN\n",
            "4   3000000  3000000-101-2004-00032  20040127  ...       NaN       NaN  NaN\n",
            "\n",
            "[5 rows x 44 columns]\n",
            "결측치 확인;\n",
            " 개방자치단체코드          0\n",
            "관리번호              0\n",
            "인허가일자             0\n",
            "인허가취소일자      461559\n",
            "영업상태코드            0\n",
            "영업상태명             0\n",
            "상세영업상태코드          0\n",
            "상세영업상태명           0\n",
            "폐업일자         123819\n",
            "휴업시작일자       461559\n",
            "휴업종료일자       461559\n",
            "재개업일자        461559\n",
            "전화번호         134964\n",
            "소재지면적         35470\n",
            "소재지우편번호         246\n",
            "지번주소            238\n",
            "도로명주소        250991\n",
            "도로명우편번호      254448\n",
            "사업장명              1\n",
            "최종수정일자            0\n",
            "데이터갱신구분           0\n",
            "데이터갱신일자           0\n",
            "업태구분명            20\n",
            "좌표정보(X)       24632\n",
            "좌표정보(Y)       24632\n",
            "위생업태명         38674\n",
            "남성종사자수       193661\n",
            "여성종사자수       191436\n",
            "영업장주변구분명     215737\n",
            "등급구분명        224844\n",
            "급수시설구분명      166023\n",
            "총인원          461559\n",
            "본사종업원수       461456\n",
            "공장사무직종업원수    461457\n",
            "공장판매직종업원수    461457\n",
            "공장생산직종업원수    461457\n",
            "건물소유구분명      461558\n",
            "보증액          461456\n",
            "월세액          461456\n",
            "다중이용업소여부      38657\n",
            "시설총규모         38657\n",
            "전통업소지정번호     459835\n",
            "전통업소주된음식     460650\n",
            "홈페이지         461559\n",
            "dtype: int64\n"
          ],
          "name": "stdout"
        }
      ]
    },
    {
      "cell_type": "code",
      "metadata": {
        "colab": {
          "base_uri": "https://localhost:8080/",
          "height": 375
        },
        "id": "YiaFWe1c0Esd",
        "outputId": "ff91b714-409f-4b3c-e971-464e263d1569"
      },
      "source": [
        "\n",
        "df['인허가일자'] = pd.to_datetime(df['인허가일자'], format ='%Y%m%d', errors = 'coerce')\n",
        "df['폐업일자'] = pd.to_datetime(df['폐업일자'])\n",
        "df.drop(df[(df['폐업일자'].dt.year>2020)].index, inplace=True)\n",
        "df.drop(df[(df['폐업일자'].dt.year == 2020) & (df['폐업일자'].dt.month>3)].index, inplace=True)\n",
        "df.drop(df[(df['폐업일자'].dt.year<2017)].index, inplace=True)\n",
        "df.drop(df[(df['폐업일자'].isnull())].index, inplace=True)\n",
        "\n",
        "df['연도'],df['월'] = df['폐업일자'].dt.year,df['폐업일자'].dt.month\n",
        "df[['시도','시군구']] = df['도로명주소'].str.split(' ',expand=True).iloc[:,[0,1]]\n",
        "df['영업기간'] = df['폐업일자'] - df['인허가일자']\n",
        "\n",
        "seoul_food_store = df.loc[:,['시도','시군구','업태구분명','폐업일자','연도','월','인허가일자','사업장명','도로명주소','영업기간','좌표정보(X)','좌표정보(Y)']]\n",
        "\n",
        "seoul_food_store.drop(seoul_food_store[seoul_food_store['시도'].isnull()==True].index, inplace=True)\n",
        "\n",
        "seoul_food_store.tail(50)"
      ],
      "execution_count": 25,
      "outputs": [
        {
          "output_type": "error",
          "ename": "IndexError",
          "evalue": "ignored",
          "traceback": [
            "\u001b[0;31m---------------------------------------------------------------------------\u001b[0m",
            "\u001b[0;31mIndexError\u001b[0m                                Traceback (most recent call last)",
            "\u001b[0;32m<ipython-input-25-c63cd7c292f4>\u001b[0m in \u001b[0;36m<module>\u001b[0;34m()\u001b[0m\n\u001b[1;32m      8\u001b[0m \u001b[0;34m\u001b[0m\u001b[0m\n\u001b[1;32m      9\u001b[0m \u001b[0mdf\u001b[0m\u001b[0;34m[\u001b[0m\u001b[0;34m'연도'\u001b[0m\u001b[0;34m]\u001b[0m\u001b[0;34m,\u001b[0m\u001b[0mdf\u001b[0m\u001b[0;34m[\u001b[0m\u001b[0;34m'월'\u001b[0m\u001b[0;34m]\u001b[0m \u001b[0;34m=\u001b[0m \u001b[0mdf\u001b[0m\u001b[0;34m[\u001b[0m\u001b[0;34m'폐업일자'\u001b[0m\u001b[0;34m]\u001b[0m\u001b[0;34m.\u001b[0m\u001b[0mdt\u001b[0m\u001b[0;34m.\u001b[0m\u001b[0myear\u001b[0m\u001b[0;34m,\u001b[0m\u001b[0mdf\u001b[0m\u001b[0;34m[\u001b[0m\u001b[0;34m'폐업일자'\u001b[0m\u001b[0;34m]\u001b[0m\u001b[0;34m.\u001b[0m\u001b[0mdt\u001b[0m\u001b[0;34m.\u001b[0m\u001b[0mmonth\u001b[0m\u001b[0;34m\u001b[0m\u001b[0;34m\u001b[0m\u001b[0m\n\u001b[0;32m---> 10\u001b[0;31m \u001b[0mdf\u001b[0m\u001b[0;34m[\u001b[0m\u001b[0;34m[\u001b[0m\u001b[0;34m'시도'\u001b[0m\u001b[0;34m,\u001b[0m\u001b[0;34m'시군구'\u001b[0m\u001b[0;34m]\u001b[0m\u001b[0;34m]\u001b[0m \u001b[0;34m=\u001b[0m \u001b[0mdf\u001b[0m\u001b[0;34m[\u001b[0m\u001b[0;34m'도로명주소'\u001b[0m\u001b[0;34m]\u001b[0m\u001b[0;34m.\u001b[0m\u001b[0mstr\u001b[0m\u001b[0;34m.\u001b[0m\u001b[0msplit\u001b[0m\u001b[0;34m(\u001b[0m\u001b[0;34m' '\u001b[0m\u001b[0;34m,\u001b[0m\u001b[0mexpand\u001b[0m\u001b[0;34m=\u001b[0m\u001b[0;32mTrue\u001b[0m\u001b[0;34m)\u001b[0m\u001b[0;34m.\u001b[0m\u001b[0miloc\u001b[0m\u001b[0;34m[\u001b[0m\u001b[0;34m:\u001b[0m\u001b[0;34m,\u001b[0m\u001b[0;34m[\u001b[0m\u001b[0;36m0\u001b[0m\u001b[0;34m,\u001b[0m\u001b[0;36m1\u001b[0m\u001b[0;34m]\u001b[0m\u001b[0;34m]\u001b[0m\u001b[0;34m\u001b[0m\u001b[0;34m\u001b[0m\u001b[0m\n\u001b[0m\u001b[1;32m     11\u001b[0m \u001b[0mdf\u001b[0m\u001b[0;34m[\u001b[0m\u001b[0;34m'영업기간'\u001b[0m\u001b[0;34m]\u001b[0m \u001b[0;34m=\u001b[0m \u001b[0mdf\u001b[0m\u001b[0;34m[\u001b[0m\u001b[0;34m'폐업일자'\u001b[0m\u001b[0;34m]\u001b[0m \u001b[0;34m-\u001b[0m \u001b[0mdf\u001b[0m\u001b[0;34m[\u001b[0m\u001b[0;34m'인허가일자'\u001b[0m\u001b[0;34m]\u001b[0m\u001b[0;34m\u001b[0m\u001b[0;34m\u001b[0m\u001b[0m\n\u001b[1;32m     12\u001b[0m \u001b[0;34m\u001b[0m\u001b[0m\n",
            "\u001b[0;32m/usr/local/lib/python3.7/dist-packages/pandas/core/indexing.py\u001b[0m in \u001b[0;36m__getitem__\u001b[0;34m(self, key)\u001b[0m\n\u001b[1;32m    871\u001b[0m                     \u001b[0;31m# AttributeError for IntervalTree get_value\u001b[0m\u001b[0;34m\u001b[0m\u001b[0;34m\u001b[0m\u001b[0;34m\u001b[0m\u001b[0m\n\u001b[1;32m    872\u001b[0m                     \u001b[0;32mpass\u001b[0m\u001b[0;34m\u001b[0m\u001b[0;34m\u001b[0m\u001b[0m\n\u001b[0;32m--> 873\u001b[0;31m             \u001b[0;32mreturn\u001b[0m \u001b[0mself\u001b[0m\u001b[0;34m.\u001b[0m\u001b[0m_getitem_tuple\u001b[0m\u001b[0;34m(\u001b[0m\u001b[0mkey\u001b[0m\u001b[0;34m)\u001b[0m\u001b[0;34m\u001b[0m\u001b[0;34m\u001b[0m\u001b[0m\n\u001b[0m\u001b[1;32m    874\u001b[0m         \u001b[0;32melse\u001b[0m\u001b[0;34m:\u001b[0m\u001b[0;34m\u001b[0m\u001b[0;34m\u001b[0m\u001b[0m\n\u001b[1;32m    875\u001b[0m             \u001b[0;31m# we by definition only have the 0th axis\u001b[0m\u001b[0;34m\u001b[0m\u001b[0;34m\u001b[0m\u001b[0;34m\u001b[0m\u001b[0m\n",
            "\u001b[0;32m/usr/local/lib/python3.7/dist-packages/pandas/core/indexing.py\u001b[0m in \u001b[0;36m_getitem_tuple\u001b[0;34m(self, tup)\u001b[0m\n\u001b[1;32m   1441\u001b[0m     \u001b[0;32mdef\u001b[0m \u001b[0m_getitem_tuple\u001b[0m\u001b[0;34m(\u001b[0m\u001b[0mself\u001b[0m\u001b[0;34m,\u001b[0m \u001b[0mtup\u001b[0m\u001b[0;34m:\u001b[0m \u001b[0mTuple\u001b[0m\u001b[0;34m)\u001b[0m\u001b[0;34m:\u001b[0m\u001b[0;34m\u001b[0m\u001b[0;34m\u001b[0m\u001b[0m\n\u001b[1;32m   1442\u001b[0m \u001b[0;34m\u001b[0m\u001b[0m\n\u001b[0;32m-> 1443\u001b[0;31m         \u001b[0mself\u001b[0m\u001b[0;34m.\u001b[0m\u001b[0m_has_valid_tuple\u001b[0m\u001b[0;34m(\u001b[0m\u001b[0mtup\u001b[0m\u001b[0;34m)\u001b[0m\u001b[0;34m\u001b[0m\u001b[0;34m\u001b[0m\u001b[0m\n\u001b[0m\u001b[1;32m   1444\u001b[0m         \u001b[0;32mtry\u001b[0m\u001b[0;34m:\u001b[0m\u001b[0;34m\u001b[0m\u001b[0;34m\u001b[0m\u001b[0m\n\u001b[1;32m   1445\u001b[0m             \u001b[0;32mreturn\u001b[0m \u001b[0mself\u001b[0m\u001b[0;34m.\u001b[0m\u001b[0m_getitem_lowerdim\u001b[0m\u001b[0;34m(\u001b[0m\u001b[0mtup\u001b[0m\u001b[0;34m)\u001b[0m\u001b[0;34m\u001b[0m\u001b[0;34m\u001b[0m\u001b[0m\n",
            "\u001b[0;32m/usr/local/lib/python3.7/dist-packages/pandas/core/indexing.py\u001b[0m in \u001b[0;36m_has_valid_tuple\u001b[0;34m(self, key)\u001b[0m\n\u001b[1;32m    700\u001b[0m                 \u001b[0;32mraise\u001b[0m \u001b[0mIndexingError\u001b[0m\u001b[0;34m(\u001b[0m\u001b[0;34m\"Too many indexers\"\u001b[0m\u001b[0;34m)\u001b[0m\u001b[0;34m\u001b[0m\u001b[0;34m\u001b[0m\u001b[0m\n\u001b[1;32m    701\u001b[0m             \u001b[0;32mtry\u001b[0m\u001b[0;34m:\u001b[0m\u001b[0;34m\u001b[0m\u001b[0;34m\u001b[0m\u001b[0m\n\u001b[0;32m--> 702\u001b[0;31m                 \u001b[0mself\u001b[0m\u001b[0;34m.\u001b[0m\u001b[0m_validate_key\u001b[0m\u001b[0;34m(\u001b[0m\u001b[0mk\u001b[0m\u001b[0;34m,\u001b[0m \u001b[0mi\u001b[0m\u001b[0;34m)\u001b[0m\u001b[0;34m\u001b[0m\u001b[0;34m\u001b[0m\u001b[0m\n\u001b[0m\u001b[1;32m    703\u001b[0m             \u001b[0;32mexcept\u001b[0m \u001b[0mValueError\u001b[0m \u001b[0;32mas\u001b[0m \u001b[0merr\u001b[0m\u001b[0;34m:\u001b[0m\u001b[0;34m\u001b[0m\u001b[0;34m\u001b[0m\u001b[0m\n\u001b[1;32m    704\u001b[0m                 raise ValueError(\n",
            "\u001b[0;32m/usr/local/lib/python3.7/dist-packages/pandas/core/indexing.py\u001b[0m in \u001b[0;36m_validate_key\u001b[0;34m(self, key, axis)\u001b[0m\n\u001b[1;32m   1365\u001b[0m             \u001b[0;31m# check that the key does not exceed the maximum size of the index\u001b[0m\u001b[0;34m\u001b[0m\u001b[0;34m\u001b[0m\u001b[0;34m\u001b[0m\u001b[0m\n\u001b[1;32m   1366\u001b[0m             \u001b[0;32mif\u001b[0m \u001b[0mlen\u001b[0m\u001b[0;34m(\u001b[0m\u001b[0marr\u001b[0m\u001b[0;34m)\u001b[0m \u001b[0;32mand\u001b[0m \u001b[0;34m(\u001b[0m\u001b[0marr\u001b[0m\u001b[0;34m.\u001b[0m\u001b[0mmax\u001b[0m\u001b[0;34m(\u001b[0m\u001b[0;34m)\u001b[0m \u001b[0;34m>=\u001b[0m \u001b[0mlen_axis\u001b[0m \u001b[0;32mor\u001b[0m \u001b[0marr\u001b[0m\u001b[0;34m.\u001b[0m\u001b[0mmin\u001b[0m\u001b[0;34m(\u001b[0m\u001b[0;34m)\u001b[0m \u001b[0;34m<\u001b[0m \u001b[0;34m-\u001b[0m\u001b[0mlen_axis\u001b[0m\u001b[0;34m)\u001b[0m\u001b[0;34m:\u001b[0m\u001b[0;34m\u001b[0m\u001b[0;34m\u001b[0m\u001b[0m\n\u001b[0;32m-> 1367\u001b[0;31m                 \u001b[0;32mraise\u001b[0m \u001b[0mIndexError\u001b[0m\u001b[0;34m(\u001b[0m\u001b[0;34m\"positional indexers are out-of-bounds\"\u001b[0m\u001b[0;34m)\u001b[0m\u001b[0;34m\u001b[0m\u001b[0;34m\u001b[0m\u001b[0m\n\u001b[0m\u001b[1;32m   1368\u001b[0m         \u001b[0;32melse\u001b[0m\u001b[0;34m:\u001b[0m\u001b[0;34m\u001b[0m\u001b[0;34m\u001b[0m\u001b[0m\n\u001b[1;32m   1369\u001b[0m             \u001b[0;32mraise\u001b[0m \u001b[0mValueError\u001b[0m\u001b[0;34m(\u001b[0m\u001b[0;34mf\"Can only index by location with a [{self._valid_types}]\"\u001b[0m\u001b[0;34m)\u001b[0m\u001b[0;34m\u001b[0m\u001b[0;34m\u001b[0m\u001b[0m\n",
            "\u001b[0;31mIndexError\u001b[0m: positional indexers are out-of-bounds"
          ]
        }
      ]
    },
    {
      "cell_type": "code",
      "metadata": {
        "colab": {
          "base_uri": "https://localhost:8080/"
        },
        "id": "8-vmGrNxHtxU",
        "outputId": "63c1e521-da02-4191-a02a-709693aab7bd"
      },
      "source": [
        "#결측치 점검\n",
        "#seoul_food_store.isna().sum()"
      ],
      "execution_count": 37,
      "outputs": [
        {
          "output_type": "execute_result",
          "data": {
            "text/plain": [
              "상세영업상태명    0\n",
              "폐업일자       0\n",
              "지번주소       0\n",
              "업태구분명      0\n",
              "시          0\n",
              "구          0\n",
              "dtype: int64"
            ]
          },
          "metadata": {
            "tags": []
          },
          "execution_count": 37
        }
      ]
    },
    {
      "cell_type": "code",
      "metadata": {
        "id": "o0mGl2uRqusd"
      },
      "source": [
        "업태구문 pichart / 2017-2021 폐업수 / 2019-2021 업태별 폐업 / 2019-2021 구별폐업 / 영업기간 boxplot"
      ],
      "execution_count": null,
      "outputs": []
    }
  ]
}