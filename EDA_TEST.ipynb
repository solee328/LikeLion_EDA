{
  "nbformat": 4,
  "nbformat_minor": 0,
  "metadata": {
    "colab": {
      "name": "EDA_TEST.ipynb",
      "provenance": [],
      "collapsed_sections": [],
      "mount_file_id": "https://github.com/solee328/LikeLion_EDA/blob/test/EDA_TEST.ipynb",
      "authorship_tag": "ABX9TyOawiQjZod29/+MW15Z9dw4",
      "include_colab_link": true
    },
    "kernelspec": {
      "name": "python3",
      "display_name": "Python 3"
    },
    "language_info": {
      "name": "python"
    }
  },
  "cells": [
    {
      "cell_type": "markdown",
      "metadata": {
        "id": "view-in-github",
        "colab_type": "text"
      },
      "source": [
        "<a href=\"https://colab.research.google.com/github/solee328/LikeLion_EDA/blob/test/EDA_TEST.ipynb\" target=\"_parent\"><img src=\"https://colab.research.google.com/assets/colab-badge.svg\" alt=\"Open In Colab\"/></a>"
      ]
    },
    {
      "cell_type": "code",
      "metadata": {
        "id": "86tTRvM3qZQ7"
      },
      "source": [
        "import pandas as pd\n",
        "import numpy as np\n",
        "import matplotlib.pyplot as plt\n",
        "from matplotlib import rcParams\n",
        "import seaborn as sns\n",
        "import missingno as msno\n",
        "%matplotlib inline"
      ],
      "execution_count": 75,
      "outputs": []
    },
    {
      "cell_type": "markdown",
      "metadata": {
        "id": "a7DAcrkyqSo9"
      },
      "source": [
        "# 데이터 불러오기\n"
      ]
    },
    {
      "cell_type": "code",
      "metadata": {
        "id": "-6GZPbHJJ2-C",
        "colab": {
          "base_uri": "https://localhost:8080/"
        },
        "outputId": "1aac7b7f-1948-408d-d9ae-dafbbc046566"
      },
      "source": [
        "cd drive/MyDrive/data/COVID-19"
      ],
      "execution_count": 1,
      "outputs": [
        {
          "output_type": "stream",
          "text": [
            "/content/drive/MyDrive/data/COVID-19\n"
          ],
          "name": "stdout"
        }
      ]
    },
    {
      "cell_type": "code",
      "metadata": {
        "id": "btTDpKY6qLb2"
      },
      "source": [
        "patient_info = pd.read_csv('PatientInfo.csv')\n",
        "patient_route = pd.read_csv('PatientRoute.csv')"
      ],
      "execution_count": 108,
      "outputs": []
    },
    {
      "cell_type": "code",
      "metadata": {
        "colab": {
          "base_uri": "https://localhost:8080/",
          "height": 292
        },
        "id": "HAwKLGQYqWi4",
        "outputId": "74401651-18fa-4249-bcc2-6e85f7c3c577"
      },
      "source": [
        "patient_info.head()"
      ],
      "execution_count": 109,
      "outputs": [
        {
          "output_type": "execute_result",
          "data": {
            "text/html": [
              "<div>\n",
              "<style scoped>\n",
              "    .dataframe tbody tr th:only-of-type {\n",
              "        vertical-align: middle;\n",
              "    }\n",
              "\n",
              "    .dataframe tbody tr th {\n",
              "        vertical-align: top;\n",
              "    }\n",
              "\n",
              "    .dataframe thead th {\n",
              "        text-align: right;\n",
              "    }\n",
              "</style>\n",
              "<table border=\"1\" class=\"dataframe\">\n",
              "  <thead>\n",
              "    <tr style=\"text-align: right;\">\n",
              "      <th></th>\n",
              "      <th>patient_id</th>\n",
              "      <th>global_num</th>\n",
              "      <th>sex</th>\n",
              "      <th>birth_year</th>\n",
              "      <th>age</th>\n",
              "      <th>country</th>\n",
              "      <th>province</th>\n",
              "      <th>city</th>\n",
              "      <th>disease</th>\n",
              "      <th>infection_case</th>\n",
              "      <th>infection_order</th>\n",
              "      <th>infected_by</th>\n",
              "      <th>contact_number</th>\n",
              "      <th>symptom_onset_date</th>\n",
              "      <th>confirmed_date</th>\n",
              "      <th>released_date</th>\n",
              "      <th>deceased_date</th>\n",
              "      <th>state</th>\n",
              "    </tr>\n",
              "  </thead>\n",
              "  <tbody>\n",
              "    <tr>\n",
              "      <th>0</th>\n",
              "      <td>1000000001</td>\n",
              "      <td>2.0</td>\n",
              "      <td>male</td>\n",
              "      <td>1964.0</td>\n",
              "      <td>50s</td>\n",
              "      <td>Korea</td>\n",
              "      <td>Seoul</td>\n",
              "      <td>Gangseo-gu</td>\n",
              "      <td>NaN</td>\n",
              "      <td>overseas inflow</td>\n",
              "      <td>1.0</td>\n",
              "      <td>NaN</td>\n",
              "      <td>75.0</td>\n",
              "      <td>2020-01-22</td>\n",
              "      <td>2020-01-23</td>\n",
              "      <td>2020-02-05</td>\n",
              "      <td>NaN</td>\n",
              "      <td>released</td>\n",
              "    </tr>\n",
              "    <tr>\n",
              "      <th>1</th>\n",
              "      <td>1000000002</td>\n",
              "      <td>5.0</td>\n",
              "      <td>male</td>\n",
              "      <td>1987.0</td>\n",
              "      <td>30s</td>\n",
              "      <td>Korea</td>\n",
              "      <td>Seoul</td>\n",
              "      <td>Jungnang-gu</td>\n",
              "      <td>NaN</td>\n",
              "      <td>overseas inflow</td>\n",
              "      <td>1.0</td>\n",
              "      <td>NaN</td>\n",
              "      <td>31.0</td>\n",
              "      <td>NaN</td>\n",
              "      <td>2020-01-30</td>\n",
              "      <td>2020-03-02</td>\n",
              "      <td>NaN</td>\n",
              "      <td>released</td>\n",
              "    </tr>\n",
              "    <tr>\n",
              "      <th>2</th>\n",
              "      <td>1000000003</td>\n",
              "      <td>6.0</td>\n",
              "      <td>male</td>\n",
              "      <td>1964.0</td>\n",
              "      <td>50s</td>\n",
              "      <td>Korea</td>\n",
              "      <td>Seoul</td>\n",
              "      <td>Jongno-gu</td>\n",
              "      <td>NaN</td>\n",
              "      <td>contact with patient</td>\n",
              "      <td>2.0</td>\n",
              "      <td>2.002000e+09</td>\n",
              "      <td>17.0</td>\n",
              "      <td>NaN</td>\n",
              "      <td>2020-01-30</td>\n",
              "      <td>2020-02-19</td>\n",
              "      <td>NaN</td>\n",
              "      <td>released</td>\n",
              "    </tr>\n",
              "    <tr>\n",
              "      <th>3</th>\n",
              "      <td>1000000004</td>\n",
              "      <td>7.0</td>\n",
              "      <td>male</td>\n",
              "      <td>1991.0</td>\n",
              "      <td>20s</td>\n",
              "      <td>Korea</td>\n",
              "      <td>Seoul</td>\n",
              "      <td>Mapo-gu</td>\n",
              "      <td>NaN</td>\n",
              "      <td>overseas inflow</td>\n",
              "      <td>1.0</td>\n",
              "      <td>NaN</td>\n",
              "      <td>9.0</td>\n",
              "      <td>2020-01-26</td>\n",
              "      <td>2020-01-30</td>\n",
              "      <td>2020-02-15</td>\n",
              "      <td>NaN</td>\n",
              "      <td>released</td>\n",
              "    </tr>\n",
              "    <tr>\n",
              "      <th>4</th>\n",
              "      <td>1000000005</td>\n",
              "      <td>9.0</td>\n",
              "      <td>female</td>\n",
              "      <td>1992.0</td>\n",
              "      <td>20s</td>\n",
              "      <td>Korea</td>\n",
              "      <td>Seoul</td>\n",
              "      <td>Seongbuk-gu</td>\n",
              "      <td>NaN</td>\n",
              "      <td>contact with patient</td>\n",
              "      <td>2.0</td>\n",
              "      <td>1.000000e+09</td>\n",
              "      <td>2.0</td>\n",
              "      <td>NaN</td>\n",
              "      <td>2020-01-31</td>\n",
              "      <td>2020-02-24</td>\n",
              "      <td>NaN</td>\n",
              "      <td>released</td>\n",
              "    </tr>\n",
              "  </tbody>\n",
              "</table>\n",
              "</div>"
            ],
            "text/plain": [
              "   patient_id  global_num     sex  ...  released_date deceased_date     state\n",
              "0  1000000001         2.0    male  ...     2020-02-05           NaN  released\n",
              "1  1000000002         5.0    male  ...     2020-03-02           NaN  released\n",
              "2  1000000003         6.0    male  ...     2020-02-19           NaN  released\n",
              "3  1000000004         7.0    male  ...     2020-02-15           NaN  released\n",
              "4  1000000005         9.0  female  ...     2020-02-24           NaN  released\n",
              "\n",
              "[5 rows x 18 columns]"
            ]
          },
          "metadata": {
            "tags": []
          },
          "execution_count": 109
        }
      ]
    },
    {
      "cell_type": "code",
      "metadata": {
        "colab": {
          "base_uri": "https://localhost:8080/"
        },
        "id": "df6mtV07u6oB",
        "outputId": "57e79ec4-6512-4de0-db22-c59856eaef5e"
      },
      "source": [
        "patient_info.info()"
      ],
      "execution_count": 110,
      "outputs": [
        {
          "output_type": "stream",
          "text": [
            "<class 'pandas.core.frame.DataFrame'>\n",
            "RangeIndex: 3388 entries, 0 to 3387\n",
            "Data columns (total 18 columns):\n",
            " #   Column              Non-Null Count  Dtype  \n",
            "---  ------              --------------  -----  \n",
            " 0   patient_id          3388 non-null   int64  \n",
            " 1   global_num          2276 non-null   float64\n",
            " 2   sex                 3311 non-null   object \n",
            " 3   birth_year          2927 non-null   float64\n",
            " 4   age                 3304 non-null   object \n",
            " 5   country             3388 non-null   object \n",
            " 6   province            3388 non-null   object \n",
            " 7   city                3309 non-null   object \n",
            " 8   disease             18 non-null     object \n",
            " 9   infection_case      2620 non-null   object \n",
            " 10  infection_order     31 non-null     float64\n",
            " 11  infected_by         822 non-null    float64\n",
            " 12  contact_number      643 non-null    float64\n",
            " 13  symptom_onset_date  481 non-null    object \n",
            " 14  confirmed_date      3385 non-null   object \n",
            " 15  released_date       1327 non-null   object \n",
            " 16  deceased_date       62 non-null     object \n",
            " 17  state               3388 non-null   object \n",
            "dtypes: float64(5), int64(1), object(12)\n",
            "memory usage: 476.6+ KB\n"
          ],
          "name": "stdout"
        }
      ]
    },
    {
      "cell_type": "code",
      "metadata": {
        "colab": {
          "base_uri": "https://localhost:8080/",
          "height": 204
        },
        "id": "OPr3aRfQrUQy",
        "outputId": "b3469c76-db58-4ff7-e889-a681b57eba12"
      },
      "source": [
        "patient_route.head()"
      ],
      "execution_count": 111,
      "outputs": [
        {
          "output_type": "execute_result",
          "data": {
            "text/html": [
              "<div>\n",
              "<style scoped>\n",
              "    .dataframe tbody tr th:only-of-type {\n",
              "        vertical-align: middle;\n",
              "    }\n",
              "\n",
              "    .dataframe tbody tr th {\n",
              "        vertical-align: top;\n",
              "    }\n",
              "\n",
              "    .dataframe thead th {\n",
              "        text-align: right;\n",
              "    }\n",
              "</style>\n",
              "<table border=\"1\" class=\"dataframe\">\n",
              "  <thead>\n",
              "    <tr style=\"text-align: right;\">\n",
              "      <th></th>\n",
              "      <th>patient_id</th>\n",
              "      <th>global_num</th>\n",
              "      <th>date</th>\n",
              "      <th>province</th>\n",
              "      <th>city</th>\n",
              "      <th>type</th>\n",
              "      <th>latitude</th>\n",
              "      <th>longitude</th>\n",
              "    </tr>\n",
              "  </thead>\n",
              "  <tbody>\n",
              "    <tr>\n",
              "      <th>0</th>\n",
              "      <td>1000000001</td>\n",
              "      <td>2.0</td>\n",
              "      <td>2020-01-22</td>\n",
              "      <td>Gyeonggi-do</td>\n",
              "      <td>Gimpo-si</td>\n",
              "      <td>airport</td>\n",
              "      <td>37.615246</td>\n",
              "      <td>126.715632</td>\n",
              "    </tr>\n",
              "    <tr>\n",
              "      <th>1</th>\n",
              "      <td>1000000001</td>\n",
              "      <td>2.0</td>\n",
              "      <td>2020-01-24</td>\n",
              "      <td>Seoul</td>\n",
              "      <td>Jung-gu</td>\n",
              "      <td>hospital</td>\n",
              "      <td>37.567241</td>\n",
              "      <td>127.005659</td>\n",
              "    </tr>\n",
              "    <tr>\n",
              "      <th>2</th>\n",
              "      <td>1000000002</td>\n",
              "      <td>5.0</td>\n",
              "      <td>2020-01-25</td>\n",
              "      <td>Seoul</td>\n",
              "      <td>Seongbuk-gu</td>\n",
              "      <td>etc</td>\n",
              "      <td>37.592560</td>\n",
              "      <td>127.017048</td>\n",
              "    </tr>\n",
              "    <tr>\n",
              "      <th>3</th>\n",
              "      <td>1000000002</td>\n",
              "      <td>5.0</td>\n",
              "      <td>2020-01-26</td>\n",
              "      <td>Seoul</td>\n",
              "      <td>Seongbuk-gu</td>\n",
              "      <td>store</td>\n",
              "      <td>37.591810</td>\n",
              "      <td>127.016822</td>\n",
              "    </tr>\n",
              "    <tr>\n",
              "      <th>4</th>\n",
              "      <td>1000000002</td>\n",
              "      <td>5.0</td>\n",
              "      <td>2020-01-26</td>\n",
              "      <td>Seoul</td>\n",
              "      <td>Seongdong-gu</td>\n",
              "      <td>public_transportation</td>\n",
              "      <td>37.563992</td>\n",
              "      <td>127.029534</td>\n",
              "    </tr>\n",
              "  </tbody>\n",
              "</table>\n",
              "</div>"
            ],
            "text/plain": [
              "   patient_id  global_num  ...   latitude   longitude\n",
              "0  1000000001         2.0  ...  37.615246  126.715632\n",
              "1  1000000001         2.0  ...  37.567241  127.005659\n",
              "2  1000000002         5.0  ...  37.592560  127.017048\n",
              "3  1000000002         5.0  ...  37.591810  127.016822\n",
              "4  1000000002         5.0  ...  37.563992  127.029534\n",
              "\n",
              "[5 rows x 8 columns]"
            ]
          },
          "metadata": {
            "tags": []
          },
          "execution_count": 111
        }
      ]
    },
    {
      "cell_type": "markdown",
      "metadata": {
        "id": "tBcpN_iercjg"
      },
      "source": [
        "# 필요한 데이터 추출\n",
        "**patientInfo**의 경우 정책(policy) 데이터와 연결시켜야 하는데 이때 사용될 만한 항목은 ```province```와 ```confirmed_date```라 생각합니다.  \n",
        "정책 적용이 대체로 서울시, 경기도 등 지역 별로 적용되었으므로 ```province``` 항목이 사용되어야 하며, 정책 적용기간 동안의 확진자 추이를 확인하기 위해 ```confirmed_date``` 항목이 사용되어야 합니다.  "
      ]
    },
    {
      "cell_type": "markdown",
      "metadata": {
        "id": "8jpGhxi-K4p0"
      },
      "source": [
        "patientRoute의 경우 ```type```에서 음식점과 관련된 데이터들만 따로 추출해야 합니다. -> 폐업과 연관"
      ]
    },
    {
      "cell_type": "markdown",
      "metadata": {
        "id": "uItDqYaIzFZt"
      },
      "source": [
        "## patientInfo"
      ]
    },
    {
      "cell_type": "code",
      "metadata": {
        "colab": {
          "base_uri": "https://localhost:8080/",
          "height": 443
        },
        "id": "4TzxBI5dteaW",
        "outputId": "15fad63e-347e-4999-fa2c-d9e11f0d9e4a"
      },
      "source": [
        "msno.matrix(patient_info)"
      ],
      "execution_count": 112,
      "outputs": [
        {
          "output_type": "execute_result",
          "data": {
            "text/plain": [
              "<matplotlib.axes._subplots.AxesSubplot at 0x7f066478d510>"
            ]
          },
          "metadata": {
            "tags": []
          },
          "execution_count": 112
        },
        {
          "output_type": "display_data",
          "data": {
            "image/png": "[encoded data removed]",
            "text/plain": [
              "<Figure size 1800x720 with 2 Axes>"
            ]
          },
          "metadata": {
            "tags": [],
            "needs_background": "light"
          }
        }
      ]
    },
    {
      "cell_type": "code",
      "metadata": {
        "colab": {
          "base_uri": "https://localhost:8080/"
        },
        "id": "XUojzmK_uMkm",
        "outputId": "8d745b34-54f9-47f2-93b4-1407b24172bf"
      },
      "source": [
        "print('province null count: ', patient_info['province'].isnull().sum())\n",
        "print('confirmed_date null count', patient_info['confirmed_date'].isnull().sum())"
      ],
      "execution_count": 113,
      "outputs": [
        {
          "output_type": "stream",
          "text": [
            "province null count:  0\n",
            "confirmed_date null count 3\n"
          ],
          "name": "stdout"
        }
      ]
    },
    {
      "cell_type": "markdown",
      "metadata": {
        "id": "iHi3FOoXu04c"
      },
      "source": [
        "```province```는 결측치가 존재하지 않습니다.  \n",
        "```confirmed_date```가 없는 데이터는 3388 row 중 3 row로 유추할 수 있는 추가적인 데이터가 없다고 판단되어 해당 row들을 삭제합니다."
      ]
    },
    {
      "cell_type": "code",
      "metadata": {
        "colab": {
          "base_uri": "https://localhost:8080/",
          "height": 213
        },
        "id": "7NnV4sRyvvj5",
        "outputId": "91902404-dad1-4d00-ee46-5c20ff4758e7"
      },
      "source": [
        "patient_need_date = patient_info[patient_info['confirmed_date'].isnull()]\n",
        "patient_need_date"
      ],
      "execution_count": 114,
      "outputs": [
        {
          "output_type": "execute_result",
          "data": {
            "text/html": [
              "<div>\n",
              "<style scoped>\n",
              "    .dataframe tbody tr th:only-of-type {\n",
              "        vertical-align: middle;\n",
              "    }\n",
              "\n",
              "    .dataframe tbody tr th {\n",
              "        vertical-align: top;\n",
              "    }\n",
              "\n",
              "    .dataframe thead th {\n",
              "        text-align: right;\n",
              "    }\n",
              "</style>\n",
              "<table border=\"1\" class=\"dataframe\">\n",
              "  <thead>\n",
              "    <tr style=\"text-align: right;\">\n",
              "      <th></th>\n",
              "      <th>patient_id</th>\n",
              "      <th>global_num</th>\n",
              "      <th>sex</th>\n",
              "      <th>birth_year</th>\n",
              "      <th>age</th>\n",
              "      <th>country</th>\n",
              "      <th>province</th>\n",
              "      <th>city</th>\n",
              "      <th>disease</th>\n",
              "      <th>infection_case</th>\n",
              "      <th>infection_order</th>\n",
              "      <th>infected_by</th>\n",
              "      <th>contact_number</th>\n",
              "      <th>symptom_onset_date</th>\n",
              "      <th>confirmed_date</th>\n",
              "      <th>released_date</th>\n",
              "      <th>deceased_date</th>\n",
              "      <th>state</th>\n",
              "    </tr>\n",
              "  </thead>\n",
              "  <tbody>\n",
              "    <tr>\n",
              "      <th>2980</th>\n",
              "      <td>6011000051</td>\n",
              "      <td>NaN</td>\n",
              "      <td>female</td>\n",
              "      <td>1980.0</td>\n",
              "      <td>40s</td>\n",
              "      <td>Korea</td>\n",
              "      <td>Gyeongsangbuk-do</td>\n",
              "      <td>Andong-si</td>\n",
              "      <td>NaN</td>\n",
              "      <td>etc</td>\n",
              "      <td>NaN</td>\n",
              "      <td>NaN</td>\n",
              "      <td>NaN</td>\n",
              "      <td>NaN</td>\n",
              "      <td>NaN</td>\n",
              "      <td>NaN</td>\n",
              "      <td>NaN</td>\n",
              "      <td>isolated</td>\n",
              "    </tr>\n",
              "    <tr>\n",
              "      <th>2981</th>\n",
              "      <td>6011000052</td>\n",
              "      <td>NaN</td>\n",
              "      <td>female</td>\n",
              "      <td>2011.0</td>\n",
              "      <td>0s</td>\n",
              "      <td>Korea</td>\n",
              "      <td>Gyeongsangbuk-do</td>\n",
              "      <td>Andong-si</td>\n",
              "      <td>NaN</td>\n",
              "      <td>etc</td>\n",
              "      <td>NaN</td>\n",
              "      <td>NaN</td>\n",
              "      <td>NaN</td>\n",
              "      <td>NaN</td>\n",
              "      <td>NaN</td>\n",
              "      <td>NaN</td>\n",
              "      <td>NaN</td>\n",
              "      <td>isolated</td>\n",
              "    </tr>\n",
              "    <tr>\n",
              "      <th>2982</th>\n",
              "      <td>6011000053</td>\n",
              "      <td>NaN</td>\n",
              "      <td>female</td>\n",
              "      <td>2001.0</td>\n",
              "      <td>10s</td>\n",
              "      <td>Korea</td>\n",
              "      <td>Gyeongsangbuk-do</td>\n",
              "      <td>Andong-si</td>\n",
              "      <td>NaN</td>\n",
              "      <td>etc</td>\n",
              "      <td>NaN</td>\n",
              "      <td>NaN</td>\n",
              "      <td>NaN</td>\n",
              "      <td>2020-04-15</td>\n",
              "      <td>NaN</td>\n",
              "      <td>NaN</td>\n",
              "      <td>NaN</td>\n",
              "      <td>isolated</td>\n",
              "    </tr>\n",
              "  </tbody>\n",
              "</table>\n",
              "</div>"
            ],
            "text/plain": [
              "      patient_id  global_num     sex  ...  released_date deceased_date     state\n",
              "2980  6011000051         NaN  female  ...            NaN           NaN  isolated\n",
              "2981  6011000052         NaN  female  ...            NaN           NaN  isolated\n",
              "2982  6011000053         NaN  female  ...            NaN           NaN  isolated\n",
              "\n",
              "[3 rows x 18 columns]"
            ]
          },
          "metadata": {
            "tags": []
          },
          "execution_count": 114
        }
      ]
    },
    {
      "cell_type": "code",
      "metadata": {
        "id": "-U-gHtdXwFIl"
      },
      "source": [
        "patient_info.dropna(subset=['confirmed_date'], inplace=True)"
      ],
      "execution_count": 115,
      "outputs": []
    },
    {
      "cell_type": "code",
      "metadata": {
        "colab": {
          "base_uri": "https://localhost:8080/"
        },
        "id": "K7mtVqnkyJ0Y",
        "outputId": "738e867a-1cdf-40ed-f14e-be93ae5ea403"
      },
      "source": [
        "patient_info['confirmed_date'].isnull().sum()"
      ],
      "execution_count": 116,
      "outputs": [
        {
          "output_type": "execute_result",
          "data": {
            "text/plain": [
              "0"
            ]
          },
          "metadata": {
            "tags": []
          },
          "execution_count": 116
        }
      ]
    },
    {
      "cell_type": "markdown",
      "metadata": {
        "id": "iwSwNLjky70x"
      },
      "source": [
        "**patient_info**의 ```confirmed_date```에 NaN값이 있던 행들을 삭제합니다."
      ]
    },
    {
      "cell_type": "code",
      "metadata": {
        "colab": {
          "base_uri": "https://localhost:8080/"
        },
        "id": "Rsb3lJLP8jPb",
        "outputId": "9189bcc7-2283-4bcb-f128-7e97b68f76fb"
      },
      "source": [
        "type(patient_info['confirmed_date'][0])"
      ],
      "execution_count": 117,
      "outputs": [
        {
          "output_type": "execute_result",
          "data": {
            "text/plain": [
              "str"
            ]
          },
          "metadata": {
            "tags": []
          },
          "execution_count": 117
        }
      ]
    },
    {
      "cell_type": "code",
      "metadata": {
        "id": "bFTB8oFC8RtU"
      },
      "source": [
        "patient_info['confirmed_date'] = pd.to_datetime(patient_info['confirmed_date'], format='%Y-%m-%d')"
      ],
      "execution_count": 118,
      "outputs": []
    },
    {
      "cell_type": "code",
      "metadata": {
        "colab": {
          "base_uri": "https://localhost:8080/"
        },
        "id": "zEatbKDw8wVL",
        "outputId": "18b76716-b0a4-4962-e688-8aa524ce54fe"
      },
      "source": [
        "type(patient_info['confirmed_date'][0])"
      ],
      "execution_count": 36,
      "outputs": [
        {
          "output_type": "execute_result",
          "data": {
            "text/plain": [
              "pandas._libs.tslibs.timestamps.Timestamp"
            ]
          },
          "metadata": {
            "tags": []
          },
          "execution_count": 36
        }
      ]
    },
    {
      "cell_type": "code",
      "metadata": {
        "id": "-L1oojpfr83_"
      },
      "source": [
        "def extract_by_date(df, date):\n",
        "  ds = list(map(int, date[0].split('-')))\n",
        "  de = list(map(int, date[1].split('-')))\n",
        "  start = pd.Timestamp(ds[0], ds[1], ds[2]).strftime('%Y-%m-%d')\n",
        "  end = pd.Timestamp(de[0], de[1], de[2]).strftime('%Y-%m-%d')\n",
        "\n",
        "  mask = (start <= df['confirmed_date']) & (df['confirmed_date']<=end)\n",
        "  return df.loc[mask]\n",
        "  "
      ],
      "execution_count": 54,
      "outputs": []
    },
    {
      "cell_type": "code",
      "metadata": {
        "id": "S1xMT1LV7yfV"
      },
      "source": [
        "date_1 = extract_by_date(patient_info, [\"2020-02-15\", \"2020-03-10\"])"
      ],
      "execution_count": 72,
      "outputs": []
    },
    {
      "cell_type": "code",
      "metadata": {
        "id": "VOCS5SLUBwog"
      },
      "source": [
        "date_1_count = date_1.groupby(['confirmed_date']).size().reset_index(name='counts')"
      ],
      "execution_count": 73,
      "outputs": []
    },
    {
      "cell_type": "code",
      "metadata": {
        "colab": {
          "base_uri": "https://localhost:8080/",
          "height": 393
        },
        "id": "nrLkUCkY9j_7",
        "outputId": "bb607a8a-96ee-4134-a72a-15d971abbdd7"
      },
      "source": [
        "rcParams['figure.figsize'] = 15, 5\n",
        "plt.xticks(rotation=45, horizontalalignment='right', fontsize='10')\n",
        "sns.lineplot(x='confirmed_date', y='counts', data=date_1_count)\n",
        "plt.show()"
      ],
      "execution_count": 98,
      "outputs": [
        {
          "output_type": "display_data",
          "data": {
            "image/png": "[encoded data removed]",
            "text/plain": [
              "<Figure size 1080x360 with 1 Axes>"
            ]
          },
          "metadata": {
            "tags": [],
            "needs_background": "light"
          }
        }
      ]
    },
    {
      "cell_type": "markdown",
      "metadata": {
        "id": "lpmWd1on85G6"
      },
      "source": [
        "```confirmed_date```의 type을 str에서 timestamp로 변경해 특정 날짜의 데이터를 추출할 수 있는 ```extract_by_date``` 함수를 만들었습니다.  \n",
        "\n",
        "예시로 2020-02-15부터 2020-03-10까지의 확진검진을 받은 환자들을 카운트한 lineplot을 그렸습니다."
      ]
    },
    {
      "cell_type": "code",
      "metadata": {
        "id": "hAfpCIH4Rl8u",
        "outputId": "fd804bc9-54b1-4bf7-be42-a92fe19b1839",
        "colab": {
          "base_uri": "https://localhost:8080/"
        }
      },
      "source": [
        "pd.unique(patient_info['province'])"
      ],
      "execution_count": 119,
      "outputs": [
        {
          "output_type": "execute_result",
          "data": {
            "text/plain": [
              "array(['Seoul', 'Busan', 'Daegu', 'Gwangju', 'Incheon', 'Daejeon',\n",
              "       'Ulsan', 'Sejong', 'Gyeonggi-do', 'Gangwon-do',\n",
              "       'Chungcheongbuk-do', 'Chungcheongnam-do', 'Jeollabuk-do',\n",
              "       'Jeollanam-do', 'Gyeongsangbuk-do', 'Gyeongsangnam-do', 'Jeju-do'],\n",
              "      dtype=object)"
            ]
          },
          "metadata": {
            "tags": []
          },
          "execution_count": 119
        }
      ]
    },
    {
      "cell_type": "code",
      "metadata": {
        "id": "KDeEEjKbSWv9"
      },
      "source": [
        "def extract_by_date_province(df, date, province):\n",
        "    ds = list(map(int, date[0].split('-')))\n",
        "    de = list(map(int, date[1].split('-')))\n",
        "    start = pd.Timestamp(ds[0], ds[1], ds[2]).strftime('%Y-%m-%d')\n",
        "    end = pd.Timestamp(de[0], de[1], de[2]).strftime('%Y-%m-%d')\n",
        "\n",
        "    mask = (start <= df['confirmed_date']) & (df['confirmed_date']<=end) & (df['province'] == province)\n",
        "    return df.loc[mask]"
      ],
      "execution_count": 129,
      "outputs": []
    },
    {
      "cell_type": "code",
      "metadata": {
        "id": "24nraliLSt44"
      },
      "source": [
        "date_2 = extract_by_date_province(patient_info, [\"2020-02-15\", \"2020-03-10\"], 'Seoul')"
      ],
      "execution_count": 134,
      "outputs": []
    },
    {
      "cell_type": "code",
      "metadata": {
        "id": "cAJ0PDtTS32e",
        "outputId": "3deaec13-67b6-4fe9-b0cd-e2cb3c4769ad",
        "colab": {
          "base_uri": "https://localhost:8080/",
          "height": 393
        }
      },
      "source": [
        "date_2_count = date_2.groupby(['confirmed_date']).size().reset_index(name='counts')\n",
        "rcParams['figure.figsize'] = 15, 5\n",
        "plt.xticks(rotation=45, horizontalalignment='right', fontsize='10')\n",
        "sns.lineplot(x='confirmed_date', y='counts', data=date_2_count)\n",
        "plt.show()"
      ],
      "execution_count": 135,
      "outputs": [
        {
          "output_type": "display_data",
          "data": {
            "image/png": "[encoded data removed]",
            "text/plain": [
              "<Figure size 1080x360 with 1 Axes>"
            ]
          },
          "metadata": {
            "tags": [],
            "needs_background": "light"
          }
        }
      ]
    },
    {
      "cell_type": "markdown",
      "metadata": {
        "id": "LG24phlaTcmJ"
      },
      "source": [
        "특정 지역(province)를 추가 파라미터로 설정할 수 있는 ```extract_by_date_province``` 또한 가능합니다.  \n",
        "예시로 날짜의 범위는 같으나 ```province```로 'Seoul'을 추가한 lineplot을 그려보았습니다."
      ]
    },
    {
      "cell_type": "markdown",
      "metadata": {
        "id": "BxjhYe6LzJ63"
      },
      "source": [
        "## patientRoute"
      ]
    },
    {
      "cell_type": "code",
      "metadata": {
        "id": "24YH7D_lIsbg",
        "outputId": "519ed015-ee52-4699-dc17-51275def037e",
        "colab": {
          "base_uri": "https://localhost:8080/",
          "height": 413
        }
      },
      "source": [
        "msno.matrix(patient_route)"
      ],
      "execution_count": 104,
      "outputs": [
        {
          "output_type": "execute_result",
          "data": {
            "text/plain": [
              "<matplotlib.axes._subplots.AxesSubplot at 0x7f06643d8bd0>"
            ]
          },
          "metadata": {
            "tags": []
          },
          "execution_count": 104
        },
        {
          "output_type": "display_data",
          "data": {
            "image/png": "[encoded data removed]",
            "text/plain": [
              "<Figure size 1800x720 with 2 Axes>"
            ]
          },
          "metadata": {
            "tags": [],
            "needs_background": "light"
          }
        }
      ]
    },
    {
      "cell_type": "code",
      "metadata": {
        "colab": {
          "base_uri": "https://localhost:8080/"
        },
        "id": "No9PiX0gy56p",
        "outputId": "cb6d2f49-02ca-4e7b-c1ef-8ca694692c0a"
      },
      "source": [
        "pd.unique(patient_route['type'])"
      ],
      "execution_count": 99,
      "outputs": [
        {
          "output_type": "execute_result",
          "data": {
            "text/plain": [
              "array(['airport', 'hospital', 'etc', 'store', 'public_transportation',\n",
              "       'restaurant', 'church', 'beauty_salon', 'pharmacy', 'pc_cafe',\n",
              "       'bank', 'cafe', 'bakery', 'bar', 'gym', 'school',\n",
              "       'real_estate_agency', 'karaoke', 'post_office', 'gas_station',\n",
              "       'lodging', 'academy', 'university', 'administrative_area_level_1'],\n",
              "      dtype=object)"
            ]
          },
          "metadata": {
            "tags": []
          },
          "execution_count": 99
        }
      ]
    },
    {
      "cell_type": "code",
      "metadata": {
        "id": "MCyPLB4YHnTX"
      },
      "source": [
        "query_food = \"type in ['restaurant', 'bakery', 'bar']\"\n",
        "patient_food = patient_route.query(query_food)"
      ],
      "execution_count": 103,
      "outputs": []
    },
    {
      "cell_type": "code",
      "metadata": {
        "id": "2mQ9eu12IPTN",
        "outputId": "03da57ba-b569-446f-cc5b-0a8451309976",
        "colab": {
          "base_uri": "https://localhost:8080/",
          "height": 339
        }
      },
      "source": [
        "plt.xticks(fontsize='10')\n",
        "sns.countplot(x=\"type\", data=patient_food)"
      ],
      "execution_count": 106,
      "outputs": [
        {
          "output_type": "execute_result",
          "data": {
            "text/plain": [
              "<matplotlib.axes._subplots.AxesSubplot at 0x7f0664453d90>"
            ]
          },
          "metadata": {
            "tags": []
          },
          "execution_count": 106
        },
        {
          "output_type": "display_data",
          "data": {
            "image/png": "[encoded data removed]",
            "text/plain": [
              "<Figure size 1080x360 with 1 Axes>"
            ]
          },
          "metadata": {
            "tags": [],
            "needs_background": "light"
          }
        }
      ]
    },
    {
      "cell_type": "markdown",
      "metadata": {
        "id": "xeK2fuKtHI-F"
      },
      "source": [
        "다행히 ```global_num``` 외 결측치가 있는 항목이 없어 결측치 처리는 따로 하지 않았습니다.  \n",
        "\n",
        "```type``` 속성 중 ```restaurant```, ```bakery```, ```bar``` 가 음식점 배달과 관련이 있다 판단되어 해당 속성을 가진 데이터만 추출했습니다.  \n",
        "\n",
        "추출된 속성 별 데이터 수를 나타내보았습니다."
      ]
    },
    {
      "cell_type": "code",
      "metadata": {
        "id": "WOOLt9lgUdos",
        "outputId": "9f276209-81f0-4097-cafc-6c8b20ad6fa7",
        "colab": {
          "base_uri": "https://localhost:8080/"
        }
      },
      "source": [
        "pd.unique(patient_route['province'])"
      ],
      "execution_count": 146,
      "outputs": [
        {
          "output_type": "execute_result",
          "data": {
            "text/plain": [
              "array(['Gyeonggi-do', 'Seoul', 'Incheon', 'Daegu', 'Gyeongsangbuk-do',\n",
              "       'Daejeon', 'Gyeongsangnam-do', 'Jeollanam-do', 'Jeju-do',\n",
              "       'Chungcheongbuk-do', 'Jeollabuk-do', 'Busan', 'Gwangju', 'Ulsan',\n",
              "       'Gangwon-do', 'Chungcheongnam-do'], dtype=object)"
            ]
          },
          "metadata": {
            "tags": []
          },
          "execution_count": 146
        }
      ]
    },
    {
      "cell_type": "code",
      "metadata": {
        "id": "XR4OXnxOTyes"
      },
      "source": [
        "query_food = \"(type in ['restaurant', 'bakery', 'bar']) and (province == 'Gwangju')\"\n",
        "patient_food = patient_route.query(query_food)"
      ],
      "execution_count": 151,
      "outputs": []
    },
    {
      "cell_type": "code",
      "metadata": {
        "id": "WI1wsiX_UFcw",
        "outputId": "723e5d96-e666-4656-9657-ece2d5c2a84a",
        "colab": {
          "base_uri": "https://localhost:8080/",
          "height": 372
        }
      },
      "source": [
        "plt.xticks(fontsize='10')\n",
        "sns.countplot(x=\"type\", data=patient_food)"
      ],
      "execution_count": 152,
      "outputs": [
        {
          "output_type": "execute_result",
          "data": {
            "text/plain": [
              "<matplotlib.axes._subplots.AxesSubplot at 0x7f0663ee7910>"
            ]
          },
          "metadata": {
            "tags": []
          },
          "execution_count": 152
        },
        {
          "output_type": "display_data",
          "data": {
            "image/png": "[encoded data removed]",
            "text/plain": [
              "<Figure size 1080x360 with 1 Axes>"
            ]
          },
          "metadata": {
            "tags": [],
            "needs_background": "light"
          }
        }
      ]
    },
    {
      "cell_type": "markdown",
      "metadata": {
        "id": "WScwL9TeL7bo"
      },
      "source": [
        "# 가설\n"
      ]
    },
    {
      "cell_type": "markdown",
      "metadata": {
        "id": "XnezvzAJR83n"
      },
      "source": [
        "## 정책 데이터\n",
        "지역 별 거리두기 등의 정책이 시행됨에 따라 해당 지역의 확진자 수가 줄어듬을 볼 수 있다면 거리두기 정책은 효과적이였다 할 수 있다.\n",
        "- 지역 별 거리두기 정책 시행 시기 확인"
      ]
    },
    {
      "cell_type": "markdown",
      "metadata": {
        "id": "uZqPc-XCQD-M"
      },
      "source": [
        "## 폐업 데이터\n",
        "음식점 폐업 비율이 늘어난 지역 및 기간에 대해서 해당 지역의 확진자 수가 늘었거나 확진자들의 음식점 방문이 빈번하게 나타난다면 해당 지역은 코로나 확진자로 인한 폐업일 가능성이 있다.\n",
        "- 지역/ 기간 별 음식점 폐업 확인"
      ]
    },
    {
      "cell_type": "markdown",
      "metadata": {
        "id": "uT2dOiQwQBrR"
      },
      "source": [
        "## 모빌리티 데이터\n",
        "공원, 직장, 대중교통의 유동인구 수는 줄었으나 식료품, 소매점의 유동인구 수가 늘어난 날짜에 대해  \n",
        "해당 날짜 앞 날들에서 확진자 수가 늘어났다면 코로나로 인한 배달 증가일 가능성이 있다\n",
        "- 배달 데이터에서 위 조건을 만족하는 기간들 확인"
      ]
    }
  ]
}