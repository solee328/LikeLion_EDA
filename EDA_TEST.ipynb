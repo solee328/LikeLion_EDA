{
  "nbformat": 4,
  "nbformat_minor": 0,
  "metadata": {
    "colab": {
      "name": "EDA_TEST.ipynb",
      "provenance": [],
      "collapsed_sections": [],
      "mount_file_id": "https://github.com/solee328/LikeLion_EDA/blob/test/EDA_TEST.ipynb",
      "authorship_tag": "ABX9TyNn/HamPF6pFlqvoem+vq1b",
      "include_colab_link": true
    },
    "kernelspec": {
      "name": "python3",
      "display_name": "Python 3"
    },
    "language_info": {
      "name": "python"
    }
  },
  "cells": [
    {
      "cell_type": "markdown",
      "metadata": {
        "id": "view-in-github",
        "colab_type": "text"
      },
      "source": [
        "<a href=\"https://colab.research.google.com/github/solee328/LikeLion_EDA/blob/test/EDA_TEST.ipynb\" target=\"_parent\"><img src=\"https://colab.research.google.com/assets/colab-badge.svg\" alt=\"Open In Colab\"/></a>"
      ]
    },
    {
      "cell_type": "code",
      "metadata": {
        "id": "86tTRvM3qZQ7"
      },
      "source": [
        "import pandas as pd\n",
        "import numpy as np\n",
        "import matplotlib.pyplot as plt\n",
        "from matplotlib import rcParams\n",
        "import seaborn as sns\n",
        "import missingno as msno\n",
        "%matplotlib inline"
      ],
      "execution_count": 75,
      "outputs": []
    },
    {
      "cell_type": "markdown",
      "metadata": {
        "id": "a7DAcrkyqSo9"
      },
      "source": [
        "## 데이터 불러오기\n"
      ]
    },
    {
      "cell_type": "code",
      "metadata": {
        "id": "-6GZPbHJJ2-C",
        "outputId": "1aac7b7f-1948-408d-d9ae-dafbbc046566",
        "colab": {
          "base_uri": "https://localhost:8080/"
        }
      },
      "source": [
        "cd drive/MyDrive/data/COVID-19"
      ],
      "execution_count": 1,
      "outputs": [
        {
          "output_type": "stream",
          "text": [
            "/content/drive/MyDrive/data/COVID-19\n"
          ],
          "name": "stdout"
        }
      ]
    },
    {
      "cell_type": "code",
      "metadata": {
        "id": "btTDpKY6qLb2"
      },
      "source": [
        "patient_info = pd.read_csv('PatientInfo.csv')\n",
        "patient_route = pd.read_csv('PatientRoute.csv')"
      ],
      "execution_count": 4,
      "outputs": []
    },
    {
      "cell_type": "code",
      "metadata": {
        "id": "HAwKLGQYqWi4",
        "outputId": "29d84e2c-4396-432f-c549-aacb4a6dc4df",
        "colab": {
          "base_uri": "https://localhost:8080/",
          "height": 292
        }
      },
      "source": [
        "patient_info.head()"
      ],
      "execution_count": 5,
      "outputs": [
        {
          "output_type": "execute_result",
          "data": {
            "text/html": [
              "<div>\n",
              "<style scoped>\n",
              "    .dataframe tbody tr th:only-of-type {\n",
              "        vertical-align: middle;\n",
              "    }\n",
              "\n",
              "    .dataframe tbody tr th {\n",
              "        vertical-align: top;\n",
              "    }\n",
              "\n",
              "    .dataframe thead th {\n",
              "        text-align: right;\n",
              "    }\n",
              "</style>\n",
              "<table border=\"1\" class=\"dataframe\">\n",
              "  <thead>\n",
              "    <tr style=\"text-align: right;\">\n",
              "      <th></th>\n",
              "      <th>patient_id</th>\n",
              "      <th>global_num</th>\n",
              "      <th>sex</th>\n",
              "      <th>birth_year</th>\n",
              "      <th>age</th>\n",
              "      <th>country</th>\n",
              "      <th>province</th>\n",
              "      <th>city</th>\n",
              "      <th>disease</th>\n",
              "      <th>infection_case</th>\n",
              "      <th>infection_order</th>\n",
              "      <th>infected_by</th>\n",
              "      <th>contact_number</th>\n",
              "      <th>symptom_onset_date</th>\n",
              "      <th>confirmed_date</th>\n",
              "      <th>released_date</th>\n",
              "      <th>deceased_date</th>\n",
              "      <th>state</th>\n",
              "    </tr>\n",
              "  </thead>\n",
              "  <tbody>\n",
              "    <tr>\n",
              "      <th>0</th>\n",
              "      <td>1000000001</td>\n",
              "      <td>2.0</td>\n",
              "      <td>male</td>\n",
              "      <td>1964.0</td>\n",
              "      <td>50s</td>\n",
              "      <td>Korea</td>\n",
              "      <td>Seoul</td>\n",
              "      <td>Gangseo-gu</td>\n",
              "      <td>NaN</td>\n",
              "      <td>overseas inflow</td>\n",
              "      <td>1.0</td>\n",
              "      <td>NaN</td>\n",
              "      <td>75.0</td>\n",
              "      <td>2020-01-22</td>\n",
              "      <td>2020-01-23</td>\n",
              "      <td>2020-02-05</td>\n",
              "      <td>NaN</td>\n",
              "      <td>released</td>\n",
              "    </tr>\n",
              "    <tr>\n",
              "      <th>1</th>\n",
              "      <td>1000000002</td>\n",
              "      <td>5.0</td>\n",
              "      <td>male</td>\n",
              "      <td>1987.0</td>\n",
              "      <td>30s</td>\n",
              "      <td>Korea</td>\n",
              "      <td>Seoul</td>\n",
              "      <td>Jungnang-gu</td>\n",
              "      <td>NaN</td>\n",
              "      <td>overseas inflow</td>\n",
              "      <td>1.0</td>\n",
              "      <td>NaN</td>\n",
              "      <td>31.0</td>\n",
              "      <td>NaN</td>\n",
              "      <td>2020-01-30</td>\n",
              "      <td>2020-03-02</td>\n",
              "      <td>NaN</td>\n",
              "      <td>released</td>\n",
              "    </tr>\n",
              "    <tr>\n",
              "      <th>2</th>\n",
              "      <td>1000000003</td>\n",
              "      <td>6.0</td>\n",
              "      <td>male</td>\n",
              "      <td>1964.0</td>\n",
              "      <td>50s</td>\n",
              "      <td>Korea</td>\n",
              "      <td>Seoul</td>\n",
              "      <td>Jongno-gu</td>\n",
              "      <td>NaN</td>\n",
              "      <td>contact with patient</td>\n",
              "      <td>2.0</td>\n",
              "      <td>2.002000e+09</td>\n",
              "      <td>17.0</td>\n",
              "      <td>NaN</td>\n",
              "      <td>2020-01-30</td>\n",
              "      <td>2020-02-19</td>\n",
              "      <td>NaN</td>\n",
              "      <td>released</td>\n",
              "    </tr>\n",
              "    <tr>\n",
              "      <th>3</th>\n",
              "      <td>1000000004</td>\n",
              "      <td>7.0</td>\n",
              "      <td>male</td>\n",
              "      <td>1991.0</td>\n",
              "      <td>20s</td>\n",
              "      <td>Korea</td>\n",
              "      <td>Seoul</td>\n",
              "      <td>Mapo-gu</td>\n",
              "      <td>NaN</td>\n",
              "      <td>overseas inflow</td>\n",
              "      <td>1.0</td>\n",
              "      <td>NaN</td>\n",
              "      <td>9.0</td>\n",
              "      <td>2020-01-26</td>\n",
              "      <td>2020-01-30</td>\n",
              "      <td>2020-02-15</td>\n",
              "      <td>NaN</td>\n",
              "      <td>released</td>\n",
              "    </tr>\n",
              "    <tr>\n",
              "      <th>4</th>\n",
              "      <td>1000000005</td>\n",
              "      <td>9.0</td>\n",
              "      <td>female</td>\n",
              "      <td>1992.0</td>\n",
              "      <td>20s</td>\n",
              "      <td>Korea</td>\n",
              "      <td>Seoul</td>\n",
              "      <td>Seongbuk-gu</td>\n",
              "      <td>NaN</td>\n",
              "      <td>contact with patient</td>\n",
              "      <td>2.0</td>\n",
              "      <td>1.000000e+09</td>\n",
              "      <td>2.0</td>\n",
              "      <td>NaN</td>\n",
              "      <td>2020-01-31</td>\n",
              "      <td>2020-02-24</td>\n",
              "      <td>NaN</td>\n",
              "      <td>released</td>\n",
              "    </tr>\n",
              "  </tbody>\n",
              "</table>\n",
              "</div>"
            ],
            "text/plain": [
              "   patient_id  global_num     sex  ...  released_date deceased_date     state\n",
              "0  1000000001         2.0    male  ...     2020-02-05           NaN  released\n",
              "1  1000000002         5.0    male  ...     2020-03-02           NaN  released\n",
              "2  1000000003         6.0    male  ...     2020-02-19           NaN  released\n",
              "3  1000000004         7.0    male  ...     2020-02-15           NaN  released\n",
              "4  1000000005         9.0  female  ...     2020-02-24           NaN  released\n",
              "\n",
              "[5 rows x 18 columns]"
            ]
          },
          "metadata": {
            "tags": []
          },
          "execution_count": 5
        }
      ]
    },
    {
      "cell_type": "code",
      "metadata": {
        "id": "df6mtV07u6oB",
        "outputId": "e0d0740f-776c-4e5b-c98b-7e0bda034779",
        "colab": {
          "base_uri": "https://localhost:8080/"
        }
      },
      "source": [
        "patient_info.info()"
      ],
      "execution_count": 15,
      "outputs": [
        {
          "output_type": "stream",
          "text": [
            "<class 'pandas.core.frame.DataFrame'>\n",
            "RangeIndex: 3388 entries, 0 to 3387\n",
            "Data columns (total 18 columns):\n",
            " #   Column              Non-Null Count  Dtype  \n",
            "---  ------              --------------  -----  \n",
            " 0   patient_id          3388 non-null   int64  \n",
            " 1   global_num          2276 non-null   float64\n",
            " 2   sex                 3311 non-null   object \n",
            " 3   birth_year          2927 non-null   float64\n",
            " 4   age                 3304 non-null   object \n",
            " 5   country             3388 non-null   object \n",
            " 6   province            3388 non-null   object \n",
            " 7   city                3309 non-null   object \n",
            " 8   disease             18 non-null     object \n",
            " 9   infection_case      2620 non-null   object \n",
            " 10  infection_order     31 non-null     float64\n",
            " 11  infected_by         822 non-null    float64\n",
            " 12  contact_number      643 non-null    float64\n",
            " 13  symptom_onset_date  481 non-null    object \n",
            " 14  confirmed_date      3385 non-null   object \n",
            " 15  released_date       1327 non-null   object \n",
            " 16  deceased_date       62 non-null     object \n",
            " 17  state               3388 non-null   object \n",
            "dtypes: float64(5), int64(1), object(12)\n",
            "memory usage: 476.6+ KB\n"
          ],
          "name": "stdout"
        }
      ]
    },
    {
      "cell_type": "code",
      "metadata": {
        "id": "OPr3aRfQrUQy",
        "outputId": "0e9357cd-15ec-4aae-d26b-011fd46df6a8",
        "colab": {
          "base_uri": "https://localhost:8080/",
          "height": 289
        }
      },
      "source": [
        "patient_route.head()"
      ],
      "execution_count": 6,
      "outputs": [
        {
          "output_type": "execute_result",
          "data": {
            "text/html": [
              "<div>\n",
              "<style scoped>\n",
              "    .dataframe tbody tr th:only-of-type {\n",
              "        vertical-align: middle;\n",
              "    }\n",
              "\n",
              "    .dataframe tbody tr th {\n",
              "        vertical-align: top;\n",
              "    }\n",
              "\n",
              "    .dataframe thead th {\n",
              "        text-align: right;\n",
              "    }\n",
              "</style>\n",
              "<table border=\"1\" class=\"dataframe\">\n",
              "  <thead>\n",
              "    <tr style=\"text-align: right;\">\n",
              "      <th></th>\n",
              "      <th>patient_id</th>\n",
              "      <th>global_num</th>\n",
              "      <th>date</th>\n",
              "      <th>province</th>\n",
              "      <th>city</th>\n",
              "      <th>type</th>\n",
              "      <th>latitude</th>\n",
              "      <th>longitude</th>\n",
              "    </tr>\n",
              "  </thead>\n",
              "  <tbody>\n",
              "    <tr>\n",
              "      <th>0</th>\n",
              "      <td>1000000001</td>\n",
              "      <td>2.0</td>\n",
              "      <td>2020-01-22</td>\n",
              "      <td>Gyeonggi-do</td>\n",
              "      <td>Gimpo-si</td>\n",
              "      <td>airport</td>\n",
              "      <td>37.615246</td>\n",
              "      <td>126.715632</td>\n",
              "    </tr>\n",
              "    <tr>\n",
              "      <th>1</th>\n",
              "      <td>1000000001</td>\n",
              "      <td>2.0</td>\n",
              "      <td>2020-01-24</td>\n",
              "      <td>Seoul</td>\n",
              "      <td>Jung-gu</td>\n",
              "      <td>hospital</td>\n",
              "      <td>37.567241</td>\n",
              "      <td>127.005659</td>\n",
              "    </tr>\n",
              "    <tr>\n",
              "      <th>2</th>\n",
              "      <td>1000000002</td>\n",
              "      <td>5.0</td>\n",
              "      <td>2020-01-25</td>\n",
              "      <td>Seoul</td>\n",
              "      <td>Seongbuk-gu</td>\n",
              "      <td>etc</td>\n",
              "      <td>37.592560</td>\n",
              "      <td>127.017048</td>\n",
              "    </tr>\n",
              "    <tr>\n",
              "      <th>3</th>\n",
              "      <td>1000000002</td>\n",
              "      <td>5.0</td>\n",
              "      <td>2020-01-26</td>\n",
              "      <td>Seoul</td>\n",
              "      <td>Seongbuk-gu</td>\n",
              "      <td>store</td>\n",
              "      <td>37.591810</td>\n",
              "      <td>127.016822</td>\n",
              "    </tr>\n",
              "    <tr>\n",
              "      <th>4</th>\n",
              "      <td>1000000002</td>\n",
              "      <td>5.0</td>\n",
              "      <td>2020-01-26</td>\n",
              "      <td>Seoul</td>\n",
              "      <td>Seongdong-gu</td>\n",
              "      <td>public_transportation</td>\n",
              "      <td>37.563992</td>\n",
              "      <td>127.029534</td>\n",
              "    </tr>\n",
              "  </tbody>\n",
              "</table>\n",
              "</div>"
            ],
            "text/plain": [
              "   patient_id  global_num  ...   latitude   longitude\n",
              "0  1000000001         2.0  ...  37.615246  126.715632\n",
              "1  1000000001         2.0  ...  37.567241  127.005659\n",
              "2  1000000002         5.0  ...  37.592560  127.017048\n",
              "3  1000000002         5.0  ...  37.591810  127.016822\n",
              "4  1000000002         5.0  ...  37.563992  127.029534\n",
              "\n",
              "[5 rows x 8 columns]"
            ]
          },
          "metadata": {
            "tags": []
          },
          "execution_count": 6
        }
      ]
    },
    {
      "cell_type": "markdown",
      "metadata": {
        "id": "tBcpN_iercjg"
      },
      "source": [
        "## 필요한 데이터 추출\n",
        "patientInfo의 경우 policy와 연결시켜야 하므로 confirmed_date(확진판정날짜)를 중심으로 나눌 수 있도록 하며 결측치를 확인합니다.  \n",
        "\n",
        "patientRoute의 경우 type에서 음식점과 관련된 데이터들만 따로 추출해야 합니다."
      ]
    },
    {
      "cell_type": "markdown",
      "metadata": {
        "id": "uItDqYaIzFZt"
      },
      "source": [
        "### patientInfo"
      ]
    },
    {
      "cell_type": "code",
      "metadata": {
        "id": "4TzxBI5dteaW",
        "outputId": "790a54e1-a9e6-4db0-8dc4-8578ef66a2a1",
        "colab": {
          "base_uri": "https://localhost:8080/",
          "height": 414
        }
      },
      "source": [
        "msno.matrix(patient_info)"
      ],
      "execution_count": 12,
      "outputs": [
        {
          "output_type": "execute_result",
          "data": {
            "text/plain": [
              "<matplotlib.axes._subplots.AxesSubplot at 0x7f066a1cd590>"
            ]
          },
          "metadata": {
            "tags": []
          },
          "execution_count": 12
        },
        {
          "output_type": "display_data",
          "data": {
            "image/png": "[encoded data removed]",
            "text/plain": [
              "<Figure size 1800x720 with 2 Axes>"
            ]
          },
          "metadata": {
            "tags": [],
            "needs_background": "light"
          }
        }
      ]
    },
    {
      "cell_type": "code",
      "metadata": {
        "id": "XUojzmK_uMkm",
        "outputId": "7f6cbb68-e8c2-47b0-9018-4502e6b0c72e",
        "colab": {
          "base_uri": "https://localhost:8080/"
        }
      },
      "source": [
        "patient_info['confirmed_date'].isnull().sum()"
      ],
      "execution_count": 14,
      "outputs": [
        {
          "output_type": "execute_result",
          "data": {
            "text/plain": [
              "3"
            ]
          },
          "metadata": {
            "tags": []
          },
          "execution_count": 14
        }
      ]
    },
    {
      "cell_type": "markdown",
      "metadata": {
        "id": "iHi3FOoXu04c"
      },
      "source": [
        "confirmed_date가 없는 데이터는 3388 row 중 3 row로 유추할 수 있는 추가적인 데이터가 없다고 판단되어 해당 row들을 삭제합니다."
      ]
    },
    {
      "cell_type": "code",
      "metadata": {
        "id": "7NnV4sRyvvj5",
        "outputId": "3b5a55dc-3b4c-43df-d1d6-69c44c0e3ac1",
        "colab": {
          "base_uri": "https://localhost:8080/",
          "height": 213
        }
      },
      "source": [
        "patient_need_date = patient_info[patient_info['confirmed_date'].isnull()]\n",
        "patient_need_date"
      ],
      "execution_count": 30,
      "outputs": [
        {
          "output_type": "execute_result",
          "data": {
            "text/html": [
              "<div>\n",
              "<style scoped>\n",
              "    .dataframe tbody tr th:only-of-type {\n",
              "        vertical-align: middle;\n",
              "    }\n",
              "\n",
              "    .dataframe tbody tr th {\n",
              "        vertical-align: top;\n",
              "    }\n",
              "\n",
              "    .dataframe thead th {\n",
              "        text-align: right;\n",
              "    }\n",
              "</style>\n",
              "<table border=\"1\" class=\"dataframe\">\n",
              "  <thead>\n",
              "    <tr style=\"text-align: right;\">\n",
              "      <th></th>\n",
              "      <th>patient_id</th>\n",
              "      <th>global_num</th>\n",
              "      <th>sex</th>\n",
              "      <th>birth_year</th>\n",
              "      <th>age</th>\n",
              "      <th>country</th>\n",
              "      <th>province</th>\n",
              "      <th>city</th>\n",
              "      <th>disease</th>\n",
              "      <th>infection_case</th>\n",
              "      <th>infection_order</th>\n",
              "      <th>infected_by</th>\n",
              "      <th>contact_number</th>\n",
              "      <th>symptom_onset_date</th>\n",
              "      <th>confirmed_date</th>\n",
              "      <th>released_date</th>\n",
              "      <th>deceased_date</th>\n",
              "      <th>state</th>\n",
              "    </tr>\n",
              "  </thead>\n",
              "  <tbody>\n",
              "    <tr>\n",
              "      <th>2980</th>\n",
              "      <td>6011000051</td>\n",
              "      <td>NaN</td>\n",
              "      <td>female</td>\n",
              "      <td>1980.0</td>\n",
              "      <td>40s</td>\n",
              "      <td>Korea</td>\n",
              "      <td>Gyeongsangbuk-do</td>\n",
              "      <td>Andong-si</td>\n",
              "      <td>NaN</td>\n",
              "      <td>etc</td>\n",
              "      <td>NaN</td>\n",
              "      <td>NaN</td>\n",
              "      <td>NaN</td>\n",
              "      <td>NaN</td>\n",
              "      <td>NaN</td>\n",
              "      <td>NaN</td>\n",
              "      <td>NaN</td>\n",
              "      <td>isolated</td>\n",
              "    </tr>\n",
              "    <tr>\n",
              "      <th>2981</th>\n",
              "      <td>6011000052</td>\n",
              "      <td>NaN</td>\n",
              "      <td>female</td>\n",
              "      <td>2011.0</td>\n",
              "      <td>0s</td>\n",
              "      <td>Korea</td>\n",
              "      <td>Gyeongsangbuk-do</td>\n",
              "      <td>Andong-si</td>\n",
              "      <td>NaN</td>\n",
              "      <td>etc</td>\n",
              "      <td>NaN</td>\n",
              "      <td>NaN</td>\n",
              "      <td>NaN</td>\n",
              "      <td>NaN</td>\n",
              "      <td>NaN</td>\n",
              "      <td>NaN</td>\n",
              "      <td>NaN</td>\n",
              "      <td>isolated</td>\n",
              "    </tr>\n",
              "    <tr>\n",
              "      <th>2982</th>\n",
              "      <td>6011000053</td>\n",
              "      <td>NaN</td>\n",
              "      <td>female</td>\n",
              "      <td>2001.0</td>\n",
              "      <td>10s</td>\n",
              "      <td>Korea</td>\n",
              "      <td>Gyeongsangbuk-do</td>\n",
              "      <td>Andong-si</td>\n",
              "      <td>NaN</td>\n",
              "      <td>etc</td>\n",
              "      <td>NaN</td>\n",
              "      <td>NaN</td>\n",
              "      <td>NaN</td>\n",
              "      <td>2020-04-15</td>\n",
              "      <td>NaN</td>\n",
              "      <td>NaN</td>\n",
              "      <td>NaN</td>\n",
              "      <td>isolated</td>\n",
              "    </tr>\n",
              "  </tbody>\n",
              "</table>\n",
              "</div>"
            ],
            "text/plain": [
              "      patient_id  global_num     sex  ...  released_date deceased_date     state\n",
              "2980  6011000051         NaN  female  ...            NaN           NaN  isolated\n",
              "2981  6011000052         NaN  female  ...            NaN           NaN  isolated\n",
              "2982  6011000053         NaN  female  ...            NaN           NaN  isolated\n",
              "\n",
              "[3 rows x 18 columns]"
            ]
          },
          "metadata": {
            "tags": []
          },
          "execution_count": 30
        }
      ]
    },
    {
      "cell_type": "code",
      "metadata": {
        "id": "-U-gHtdXwFIl"
      },
      "source": [
        "patient_info.dropna(subset=['confirmed_date'], inplace=True)"
      ],
      "execution_count": 31,
      "outputs": []
    },
    {
      "cell_type": "code",
      "metadata": {
        "id": "K7mtVqnkyJ0Y",
        "outputId": "bf945950-fffd-4d15-81d0-ab5fd40124c8",
        "colab": {
          "base_uri": "https://localhost:8080/"
        }
      },
      "source": [
        "patient_info['confirmed_date'].isnull().sum()"
      ],
      "execution_count": 32,
      "outputs": [
        {
          "output_type": "execute_result",
          "data": {
            "text/plain": [
              "0"
            ]
          },
          "metadata": {
            "tags": []
          },
          "execution_count": 32
        }
      ]
    },
    {
      "cell_type": "markdown",
      "metadata": {
        "id": "iwSwNLjky70x"
      },
      "source": [
        "patient_info의 confirmed_date에 NaN값이 있던 행들을 삭제합니다."
      ]
    },
    {
      "cell_type": "code",
      "metadata": {
        "id": "Rsb3lJLP8jPb",
        "outputId": "f10b6c2c-70fc-4ec0-ed25-2b3de43a904f",
        "colab": {
          "base_uri": "https://localhost:8080/"
        }
      },
      "source": [
        "type(patient_info['confirmed_date'][0])"
      ],
      "execution_count": 34,
      "outputs": [
        {
          "output_type": "execute_result",
          "data": {
            "text/plain": [
              "str"
            ]
          },
          "metadata": {
            "tags": []
          },
          "execution_count": 34
        }
      ]
    },
    {
      "cell_type": "code",
      "metadata": {
        "id": "bFTB8oFC8RtU"
      },
      "source": [
        "patient_info['confirmed_date'] = pd.to_datetime(patient_info['confirmed_date'], format='%Y-%m-%d')"
      ],
      "execution_count": 35,
      "outputs": []
    },
    {
      "cell_type": "code",
      "metadata": {
        "id": "zEatbKDw8wVL",
        "outputId": "18b76716-b0a4-4962-e688-8aa524ce54fe",
        "colab": {
          "base_uri": "https://localhost:8080/"
        }
      },
      "source": [
        "type(patient_info['confirmed_date'][0])"
      ],
      "execution_count": 36,
      "outputs": [
        {
          "output_type": "execute_result",
          "data": {
            "text/plain": [
              "pandas._libs.tslibs.timestamps.Timestamp"
            ]
          },
          "metadata": {
            "tags": []
          },
          "execution_count": 36
        }
      ]
    },
    {
      "cell_type": "code",
      "metadata": {
        "id": "-L1oojpfr83_"
      },
      "source": [
        "def extract_by_date(df, date):\n",
        "  ds = list(map(int, date[0].split('-')))\n",
        "  de = list(map(int, date[1].split('-')))\n",
        "  start = pd.Timestamp(ds[0], ds[1], ds[2]).strftime('%Y-%m-%d')\n",
        "  end = pd.Timestamp(de[0], de[1], de[2]).strftime('%Y-%m-%d')\n",
        "\n",
        "  mask = (start <= df['confirmed_date']) & (df['confirmed_date']<=end)\n",
        "  return df.loc[mask]\n",
        "  "
      ],
      "execution_count": 54,
      "outputs": []
    },
    {
      "cell_type": "code",
      "metadata": {
        "id": "S1xMT1LV7yfV"
      },
      "source": [
        "date_1 = extract_by_date(patient_info, [\"2020-02-15\", \"2020-03-10\"])"
      ],
      "execution_count": 72,
      "outputs": []
    },
    {
      "cell_type": "code",
      "metadata": {
        "id": "VOCS5SLUBwog"
      },
      "source": [
        "date_1_count = date_1.groupby(['confirmed_date']).size().reset_index(name='counts')"
      ],
      "execution_count": 73,
      "outputs": []
    },
    {
      "cell_type": "code",
      "metadata": {
        "id": "nrLkUCkY9j_7",
        "outputId": "5dda66b3-15d6-4583-b895-4637342b302d",
        "colab": {
          "base_uri": "https://localhost:8080/",
          "height": 318
        }
      },
      "source": [
        "rcParams['figure.figsize'] = 15,5\n",
        "sns.lineplot(x='confirmed_date', y='counts', data=date_1_count)"
      ],
      "execution_count": 79,
      "outputs": [
        {
          "output_type": "execute_result",
          "data": {
            "text/plain": [
              "<matplotlib.axes._subplots.AxesSubplot at 0x7f0664db9910>"
            ]
          },
          "metadata": {
            "tags": []
          },
          "execution_count": 79
        },
        {
          "output_type": "display_data",
          "data": {
            "image/png": "[encoded data removed]",
            "text/plain": [
              "<Figure size 1080x360 with 1 Axes>"
            ]
          },
          "metadata": {
            "tags": [],
            "needs_background": "light"
          }
        }
      ]
    },
    {
      "cell_type": "markdown",
      "metadata": {
        "id": "lpmWd1on85G6"
      },
      "source": [
        "confirmed_date의 type을 str에서 timestamp로 변경해 특정 날짜의 데이터를 추출할 수 있는 ```extract_by_date``` 함수를 만들었습니다.  \n",
        "\n",
        "예시로 2020-02-15부터 2020-03-10까지의 확진검진을 받은 환자들을 카운트한 lineplot을 그렸습니다."
      ]
    },
    {
      "cell_type": "markdown",
      "metadata": {
        "id": "BxjhYe6LzJ63"
      },
      "source": [
        "### patientRoute"
      ]
    },
    {
      "cell_type": "code",
      "metadata": {
        "id": "No9PiX0gy56p"
      },
      "source": [
        ""
      ],
      "execution_count": null,
      "outputs": []
    }
  ]
}