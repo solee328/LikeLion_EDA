{
  "nbformat": 4,
  "nbformat_minor": 0,
  "metadata": {
    "colab": {
      "name": "policy.ipynb",
      "provenance": [],
      "collapsed_sections": [],
      "authorship_tag": "ABX9TyPbJlb49RcHkFXF1ymkTWXJ",
      "include_colab_link": true
    },
    "kernelspec": {
      "name": "python3",
      "display_name": "Python 3"
    },
    "language_info": {
      "name": "python"
    }
  },
  "cells": [
    {
      "cell_type": "markdown",
      "metadata": {
        "id": "view-in-github",
        "colab_type": "text"
      },
      "source": [
        "<a href=\"https://colab.research.google.com/github/solee328/LikeLion_EDA/blob/heewon/policy.ipynb\" target=\"_parent\"><img src=\"https://colab.research.google.com/assets/colab-badge.svg\" alt=\"Open In Colab\"/></a>"
      ]
    },
    {
      "cell_type": "code",
      "metadata": {
        "id": "6K0Q_jMjjM_8"
      },
      "source": [
        "import pandas as pd\n",
        "\n",
        "policy = pd.read_csv('/content/Policy.csv')\n"
      ],
      "execution_count": 1,
      "outputs": []
    },
    {
      "cell_type": "code",
      "metadata": {
        "colab": {
          "base_uri": "https://localhost:8080/"
        },
        "id": "sXevlIkxnYBM",
        "outputId": "a32ce206-3727-43bc-c69d-2d0205f69731"
      },
      "source": [
        "# policy data shape\n",
        "print(policy.shape, len(policy.policy_id.unique())) "
      ],
      "execution_count": 2,
      "outputs": [
        {
          "output_type": "stream",
          "text": [
            "(48, 7) 48\n"
          ],
          "name": "stdout"
        }
      ]
    },
    {
      "cell_type": "code",
      "metadata": {
        "id": "zU3L9PV3nVzz"
      },
      "source": [
        "# data에 policy data 저장\n",
        "data = policy.copy()"
      ],
      "execution_count": 3,
      "outputs": []
    },
    {
      "cell_type": "code",
      "metadata": {
        "colab": {
          "base_uri": "https://localhost:8080/",
          "height": 363
        },
        "id": "FpVKCPt2ImoE",
        "outputId": "56309fa0-3952-40c0-a10c-2b074f32eb9c"
      },
      "source": [
        "data.head()"
      ],
      "execution_count": 4,
      "outputs": [
        {
          "output_type": "execute_result",
          "data": {
            "text/html": [
              "<div>\n",
              "<style scoped>\n",
              "    .dataframe tbody tr th:only-of-type {\n",
              "        vertical-align: middle;\n",
              "    }\n",
              "\n",
              "    .dataframe tbody tr th {\n",
              "        vertical-align: top;\n",
              "    }\n",
              "\n",
              "    .dataframe thead th {\n",
              "        text-align: right;\n",
              "    }\n",
              "</style>\n",
              "<table border=\"1\" class=\"dataframe\">\n",
              "  <thead>\n",
              "    <tr style=\"text-align: right;\">\n",
              "      <th></th>\n",
              "      <th>policy_id</th>\n",
              "      <th>country</th>\n",
              "      <th>type</th>\n",
              "      <th>gov_policy</th>\n",
              "      <th>detail</th>\n",
              "      <th>start_date</th>\n",
              "      <th>end_date</th>\n",
              "    </tr>\n",
              "  </thead>\n",
              "  <tbody>\n",
              "    <tr>\n",
              "      <th>0</th>\n",
              "      <td>1</td>\n",
              "      <td>Korea</td>\n",
              "      <td>Alert</td>\n",
              "      <td>Infectious Disease Alert Level</td>\n",
              "      <td>Level 1 (Blue)</td>\n",
              "      <td>2020-01-03</td>\n",
              "      <td>2020-01-19</td>\n",
              "    </tr>\n",
              "    <tr>\n",
              "      <th>1</th>\n",
              "      <td>2</td>\n",
              "      <td>Korea</td>\n",
              "      <td>Alert</td>\n",
              "      <td>Infectious Disease Alert Level</td>\n",
              "      <td>Level 2 (Yellow)</td>\n",
              "      <td>2020-01-20</td>\n",
              "      <td>2020-01-27</td>\n",
              "    </tr>\n",
              "    <tr>\n",
              "      <th>2</th>\n",
              "      <td>3</td>\n",
              "      <td>Korea</td>\n",
              "      <td>Alert</td>\n",
              "      <td>Infectious Disease Alert Level</td>\n",
              "      <td>Level 3 (Orange)</td>\n",
              "      <td>2020-01-28</td>\n",
              "      <td>2020-02-22</td>\n",
              "    </tr>\n",
              "    <tr>\n",
              "      <th>3</th>\n",
              "      <td>4</td>\n",
              "      <td>Korea</td>\n",
              "      <td>Alert</td>\n",
              "      <td>Infectious Disease Alert Level</td>\n",
              "      <td>Level 4 (Red)</td>\n",
              "      <td>2020-02-23</td>\n",
              "      <td>NaN</td>\n",
              "    </tr>\n",
              "    <tr>\n",
              "      <th>4</th>\n",
              "      <td>5</td>\n",
              "      <td>Korea</td>\n",
              "      <td>Immigration</td>\n",
              "      <td>Special Immigration Procedure</td>\n",
              "      <td>from China</td>\n",
              "      <td>2020-02-04</td>\n",
              "      <td>NaN</td>\n",
              "    </tr>\n",
              "  </tbody>\n",
              "</table>\n",
              "</div>"
            ],
            "text/plain": [
              "   policy_id country         type  ...            detail  start_date    end_date\n",
              "0          1   Korea        Alert  ...    Level 1 (Blue)  2020-01-03  2020-01-19\n",
              "1          2   Korea        Alert  ...  Level 2 (Yellow)  2020-01-20  2020-01-27\n",
              "2          3   Korea        Alert  ...  Level 3 (Orange)  2020-01-28  2020-02-22\n",
              "3          4   Korea        Alert  ...     Level 4 (Red)  2020-02-23         NaN\n",
              "4          5   Korea  Immigration  ...        from China  2020-02-04         NaN\n",
              "\n",
              "[5 rows x 7 columns]"
            ]
          },
          "metadata": {
            "tags": []
          },
          "execution_count": 4
        }
      ]
    },
    {
      "cell_type": "markdown",
      "metadata": {
        "id": "1pklnTlRKD82"
      },
      "source": [
        "gov_policy에는 여러 값이 존재한다."
      ]
    },
    {
      "cell_type": "code",
      "metadata": {
        "colab": {
          "base_uri": "https://localhost:8080/"
        },
        "id": "Ok9lODMtnP0E",
        "outputId": "1c765b2b-0109-41a0-e133-85caf040ab24"
      },
      "source": [
        "# data \n",
        "data['gov_policy'].unique()"
      ],
      "execution_count": 5,
      "outputs": [
        {
          "output_type": "execute_result",
          "data": {
            "text/plain": [
              "array(['Infectious Disease Alert Level', 'Special Immigration Procedure',\n",
              "       'Mandatory 14-day Self-Quarantine',\n",
              "       'Mandatory Self-Quarantine & Diagonostic Tests',\n",
              "       'Emergency Use Authorization of Diagnostic Kit',\n",
              "       'Drive-Through Screening Center', 'Mask Distribution',\n",
              "       'Social Distancing Campaign', 'Thanks to Challenge korea',\n",
              "       'School Closure', 'School Opening Delay',\n",
              "       'School Opening with Online Class', 'Open Data ', 'Open API',\n",
              "       'Self-Diagnosis App', 'Self-Quarantine Safety Protection App',\n",
              "       'Electronic Wristbands'], dtype=object)"
            ]
          },
          "metadata": {
            "tags": []
          },
          "execution_count": 5
        }
      ]
    },
    {
      "cell_type": "markdown",
      "metadata": {
        "id": "kchaLzYmKMaR"
      },
      "source": [
        "우리가 집중할 정책인 거리두기 관련 부분\n",
        "\n",
        "같은 Social Distancing Campaign이지만 detail의 차이의 존재 파악"
      ]
    },
    {
      "cell_type": "code",
      "metadata": {
        "colab": {
          "base_uri": "https://localhost:8080/",
          "height": 186
        },
        "id": "6WYxXc3nsxAd",
        "outputId": "eda7ac16-78c2-410b-a23c-ccd8f40b9094"
      },
      "source": [
        "data.loc[[28,29,30]]"
      ],
      "execution_count": 6,
      "outputs": [
        {
          "output_type": "execute_result",
          "data": {
            "text/html": [
              "<div>\n",
              "<style scoped>\n",
              "    .dataframe tbody tr th:only-of-type {\n",
              "        vertical-align: middle;\n",
              "    }\n",
              "\n",
              "    .dataframe tbody tr th {\n",
              "        vertical-align: top;\n",
              "    }\n",
              "\n",
              "    .dataframe thead th {\n",
              "        text-align: right;\n",
              "    }\n",
              "</style>\n",
              "<table border=\"1\" class=\"dataframe\">\n",
              "  <thead>\n",
              "    <tr style=\"text-align: right;\">\n",
              "      <th></th>\n",
              "      <th>policy_id</th>\n",
              "      <th>country</th>\n",
              "      <th>type</th>\n",
              "      <th>gov_policy</th>\n",
              "      <th>detail</th>\n",
              "      <th>start_date</th>\n",
              "      <th>end_date</th>\n",
              "    </tr>\n",
              "  </thead>\n",
              "  <tbody>\n",
              "    <tr>\n",
              "      <th>28</th>\n",
              "      <td>29</td>\n",
              "      <td>Korea</td>\n",
              "      <td>Social</td>\n",
              "      <td>Social Distancing Campaign</td>\n",
              "      <td>Strong</td>\n",
              "      <td>2020-03-22</td>\n",
              "      <td>2020-04-05</td>\n",
              "    </tr>\n",
              "    <tr>\n",
              "      <th>29</th>\n",
              "      <td>30</td>\n",
              "      <td>Korea</td>\n",
              "      <td>Social</td>\n",
              "      <td>Social Distancing Campaign</td>\n",
              "      <td>Strong</td>\n",
              "      <td>2020-04-06</td>\n",
              "      <td>2020-04-19</td>\n",
              "    </tr>\n",
              "    <tr>\n",
              "      <th>30</th>\n",
              "      <td>31</td>\n",
              "      <td>Korea</td>\n",
              "      <td>Social</td>\n",
              "      <td>Social Distancing Campaign</td>\n",
              "      <td>Weak</td>\n",
              "      <td>2020-04-20</td>\n",
              "      <td>2020-05-05</td>\n",
              "    </tr>\n",
              "  </tbody>\n",
              "</table>\n",
              "</div>"
            ],
            "text/plain": [
              "    policy_id country    type  ...  detail  start_date    end_date\n",
              "28         29   Korea  Social  ...  Strong  2020-03-22  2020-04-05\n",
              "29         30   Korea  Social  ...  Strong  2020-04-06  2020-04-19\n",
              "30         31   Korea  Social  ...    Weak  2020-04-20  2020-05-05\n",
              "\n",
              "[3 rows x 7 columns]"
            ]
          },
          "metadata": {
            "tags": []
          },
          "execution_count": 6
        }
      ]
    },
    {
      "cell_type": "markdown",
      "metadata": {
        "id": "ygC4fgn_KjLR"
      },
      "source": [
        "detail의 인덱스 값을 2020년 6월 28일부터 시행한 단계별 거리두기를 위해 Level 인덱스 값을 설정"
      ]
    },
    {
      "cell_type": "code",
      "metadata": {
        "id": "Iy47uxAAtQcG"
      },
      "source": [
        "for i in range (28,31):\n",
        "  if data.loc[i,'detail'] =='Strong':\n",
        "    data.loc[i,'detail'] = 2\n",
        "  else:\n",
        "    data.loc[i,'detail'] = 1\n",
        "    \n",
        "data['Level'] = data['detail']"
      ],
      "execution_count": 7,
      "outputs": []
    },
    {
      "cell_type": "markdown",
      "metadata": {
        "id": "GLU6mW9wK7Em"
      },
      "source": [
        "우리가 data 값에서 필요한 정보인 gov_policy, Level, start_date와 end_date 인덱스 값들을 추출하여 따로 저장"
      ]
    },
    {
      "cell_type": "code",
      "metadata": {
        "id": "orMqMmGsqa7v"
      },
      "source": [
        "data = data.loc[28:30, ['gov_policy', 'Level', 'start_date', 'end_date']]"
      ],
      "execution_count": 8,
      "outputs": []
    },
    {
      "cell_type": "markdown",
      "metadata": {
        "id": "r4tZjUYjLZfq"
      },
      "source": [
        "새로운 정렬"
      ]
    },
    {
      "cell_type": "code",
      "metadata": {
        "colab": {
          "base_uri": "https://localhost:8080/",
          "height": 136
        },
        "id": "jbUU_-Osrho4",
        "outputId": "a732cc7b-0e24-4282-fd71-db8b4e586df2"
      },
      "source": [
        "data.reset_index(drop =True)"
      ],
      "execution_count": 9,
      "outputs": [
        {
          "output_type": "execute_result",
          "data": {
            "text/html": [
              "<div>\n",
              "<style scoped>\n",
              "    .dataframe tbody tr th:only-of-type {\n",
              "        vertical-align: middle;\n",
              "    }\n",
              "\n",
              "    .dataframe tbody tr th {\n",
              "        vertical-align: top;\n",
              "    }\n",
              "\n",
              "    .dataframe thead th {\n",
              "        text-align: right;\n",
              "    }\n",
              "</style>\n",
              "<table border=\"1\" class=\"dataframe\">\n",
              "  <thead>\n",
              "    <tr style=\"text-align: right;\">\n",
              "      <th></th>\n",
              "      <th>gov_policy</th>\n",
              "      <th>Level</th>\n",
              "      <th>start_date</th>\n",
              "      <th>end_date</th>\n",
              "    </tr>\n",
              "  </thead>\n",
              "  <tbody>\n",
              "    <tr>\n",
              "      <th>0</th>\n",
              "      <td>Social Distancing Campaign</td>\n",
              "      <td>2</td>\n",
              "      <td>2020-03-22</td>\n",
              "      <td>2020-04-05</td>\n",
              "    </tr>\n",
              "    <tr>\n",
              "      <th>1</th>\n",
              "      <td>Social Distancing Campaign</td>\n",
              "      <td>2</td>\n",
              "      <td>2020-04-06</td>\n",
              "      <td>2020-04-19</td>\n",
              "    </tr>\n",
              "    <tr>\n",
              "      <th>2</th>\n",
              "      <td>Social Distancing Campaign</td>\n",
              "      <td>1</td>\n",
              "      <td>2020-04-20</td>\n",
              "      <td>2020-05-05</td>\n",
              "    </tr>\n",
              "  </tbody>\n",
              "</table>\n",
              "</div>"
            ],
            "text/plain": [
              "                   gov_policy Level  start_date    end_date\n",
              "0  Social Distancing Campaign     2  2020-03-22  2020-04-05\n",
              "1  Social Distancing Campaign     2  2020-04-06  2020-04-19\n",
              "2  Social Distancing Campaign     1  2020-04-20  2020-05-05"
            ]
          },
          "metadata": {
            "tags": []
          },
          "execution_count": 9
        }
      ]
    },
    {
      "cell_type": "markdown",
      "metadata": {
        "id": "Xl8PFDf3Lkhd"
      },
      "source": [
        "추가 거리두기 관련 정책 데이터 추가\n",
        "\n",
        "경기도 공식 블로그 참고\n",
        "\n",
        "https://blog.naver.com/gyeonggi_gov/"
      ]
    },
    {
      "cell_type": "code",
      "metadata": {
        "id": "CKiOSaJt0wsq"
      },
      "source": [
        "data.loc[3] = [ 'Distancing in daily life', 1 , '2020-05-06', '2020-06-27'] # 생활속 거리두기 20.5.6-20.6.27\n",
        "data.loc[4] = [ 'Social Distancing Campaign', 1, '2020-06-28', '2020-08-15'] # 단계별 적응 - 1단계 거리두기 20.6.28-20.8.15\n",
        "data.loc[5] = [ 'Social Distancing Campaign', 2, '2020-08-16', '2020-08-29'] # 2단계 거리두기 20.8.16-20.8.29/ 8월 19일부터터터 완전한 거리두기\n",
        "data.loc[6] = [ 'Social Distancing Campaign', 2.5, '2020-08-30', '2020-09-13'] # 강화 2단계 거리두기 20.8.30-20.9.13\n",
        "data.loc[7] = [ 'Social Distancing Campaign', 2, '2020-09-14', '2020-10-11'] # 2단계 거리두기 20.9.14-20.10.11\n",
        "data.loc[8] = [ 'Social Distancing Campaign', 1, '2020-10-12', '2020-11-18'] # 1단계 거리두기 20.10.12-20.11.23\n",
        "data.loc[9] = [ 'Social Distancing Campaign', 1.5, '2020-11-19', '2020-11-23']\n",
        "data.loc[10] = [ 'Social Distancing Campaign', 2, '2020-11-24', '2020-12-07'] # 2단계 거리두기 20.11.24-20.12.07\n",
        "data.loc[11] = [ 'Social Distancing Campaign', 2.5, '2020-12-08', '2020-12-23'] # 2단계 거리두기 20.12.8-20.12.23 수도권은 2.5 비수도권 2\n",
        "# data.loc[12] = [ 'Special Measures for Strengthening the Prevention of the Year-end and New Year' , '2020-12-24', '2021-04-11'] # 연말연시 방역강화 특별대책 20.12.24-\n",
        "data.loc[12] = [ 'Social Distancing Campaign', 2.5, '2020-12-23', '2021-01-03'] # 5인이상 집합금지 시작작ata.loc[12] = [ 'Social Distancing Campaign', 2.5, '2021-12-23', '2021-01-03'] # 5인이상 집합금지 시작작\n",
        "data.loc[13] = [ 'Social Distancing Campaign', 2.5, '2021-01-04', '2021-01-17']\n",
        "data.loc[14] = [ 'Social Distancing Campaign', 2.5, '2021-01-18', '2021-01-31']\n",
        "data.loc[15] = [ 'Social Distancing Campaign', 2.5, '2021-02-01', '2021-02-14']\n",
        "data.loc[16] = [ 'Social Distancing Campaign', 2, '2021-02-15', '2021-02-28'] \n",
        "data.loc[17] = [ 'Social Distancing Campaign', 2, '2021-03-01', '2021-04-11']"
      ],
      "execution_count": 10,
      "outputs": []
    },
    {
      "cell_type": "markdown",
      "metadata": {
        "id": "kUPdDZyarf8P"
      },
      "source": [
        "# **연말연시 방역강화 특별대책 20.12.24-**"
      ]
    },
    {
      "cell_type": "markdown",
      "metadata": {
        "id": "dbN_KrwGsWho"
      },
      "source": [
        "**2020년 12월 24일 - 2021년 1월 3일**\n",
        "\n",
        "![image.png](data:image/png;base64,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)"
      ]
    },
    {
      "cell_type": "markdown",
      "metadata": {
        "id": "uc_zwcFwr4Ag"
      },
      "source": [
        "**1월 4일 - 1월 17일**\n",
        "\n",
        "![image.png](data:image/png;base64,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)"
      ]
    },
    {
      "cell_type": "markdown",
      "metadata": {
        "id": "leZ5JvqEpsx_"
      },
      "source": [
        "1월 18일 - 1월 31일\n",
        "\n",
        "![image.png](data:image/png;base64,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)"
      ]
    },
    {
      "cell_type": "markdown",
      "metadata": {
        "id": "s-5n4dfzpjCc"
      },
      "source": [
        " **2월 1일 - 2월 14일**\n",
        "\n",
        "![image.png](data:image/png;base64,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)"
      ]
    },
    {
      "cell_type": "markdown",
      "metadata": {
        "id": "2JvWfJLKqYYe"
      },
      "source": [
        "**2월 15일 - 2월 28일**\n",
        "\n",
        "![image.png](data:image/png;base64,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)"
      ]
    },
    {
      "cell_type": "markdown",
      "metadata": {
        "id": "AD731zwxqt1v"
      },
      "source": [
        "**3월 1일 - 3월 14일**\n",
        "\n",
        "![image.png](data:image/png;base64,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)"
      ]
    },
    {
      "cell_type": "markdown",
      "metadata": {
        "id": "pQiZXA-urBXu"
      },
      "source": [
        "**3월 15일 - 3월 28일**\n",
        "\n",
        "![image.png](data:image/png;base64,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)"
      ]
    },
    {
      "cell_type": "markdown",
      "metadata": {
        "id": "o3ECbd_lrSgx"
      },
      "source": [
        "**3월 29일 - 4월 11일**\n",
        "\n",
        "![image.png](data:image/png;base64,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)"
      ]
    },
    {
      "cell_type": "markdown",
      "metadata": {
        "id": "6I6oOm2Lro_w"
      },
      "source": [
        "# **데이터 정리**"
      ]
    },
    {
      "cell_type": "code",
      "metadata": {
        "colab": {
          "base_uri": "https://localhost:8080/",
          "height": 580
        },
        "id": "_9NcEk0A5Zgw",
        "outputId": "6aae0413-c0a6-4ae1-84da-0b3a06a0383b"
      },
      "source": [
        "data.reset_index(drop =True)"
      ],
      "execution_count": 11,
      "outputs": [
        {
          "output_type": "execute_result",
          "data": {
            "text/html": [
              "<div>\n",
              "<style scoped>\n",
              "    .dataframe tbody tr th:only-of-type {\n",
              "        vertical-align: middle;\n",
              "    }\n",
              "\n",
              "    .dataframe tbody tr th {\n",
              "        vertical-align: top;\n",
              "    }\n",
              "\n",
              "    .dataframe thead th {\n",
              "        text-align: right;\n",
              "    }\n",
              "</style>\n",
              "<table border=\"1\" class=\"dataframe\">\n",
              "  <thead>\n",
              "    <tr style=\"text-align: right;\">\n",
              "      <th></th>\n",
              "      <th>gov_policy</th>\n",
              "      <th>Level</th>\n",
              "      <th>start_date</th>\n",
              "      <th>end_date</th>\n",
              "    </tr>\n",
              "  </thead>\n",
              "  <tbody>\n",
              "    <tr>\n",
              "      <th>0</th>\n",
              "      <td>Social Distancing Campaign</td>\n",
              "      <td>2</td>\n",
              "      <td>2020-03-22</td>\n",
              "      <td>2020-04-05</td>\n",
              "    </tr>\n",
              "    <tr>\n",
              "      <th>1</th>\n",
              "      <td>Social Distancing Campaign</td>\n",
              "      <td>2</td>\n",
              "      <td>2020-04-06</td>\n",
              "      <td>2020-04-19</td>\n",
              "    </tr>\n",
              "    <tr>\n",
              "      <th>2</th>\n",
              "      <td>Social Distancing Campaign</td>\n",
              "      <td>1</td>\n",
              "      <td>2020-04-20</td>\n",
              "      <td>2020-05-05</td>\n",
              "    </tr>\n",
              "    <tr>\n",
              "      <th>3</th>\n",
              "      <td>Distancing in daily life</td>\n",
              "      <td>1</td>\n",
              "      <td>2020-05-06</td>\n",
              "      <td>2020-06-27</td>\n",
              "    </tr>\n",
              "    <tr>\n",
              "      <th>4</th>\n",
              "      <td>Social Distancing Campaign</td>\n",
              "      <td>1</td>\n",
              "      <td>2020-06-28</td>\n",
              "      <td>2020-08-15</td>\n",
              "    </tr>\n",
              "    <tr>\n",
              "      <th>5</th>\n",
              "      <td>Social Distancing Campaign</td>\n",
              "      <td>2</td>\n",
              "      <td>2020-08-16</td>\n",
              "      <td>2020-08-29</td>\n",
              "    </tr>\n",
              "    <tr>\n",
              "      <th>6</th>\n",
              "      <td>Social Distancing Campaign</td>\n",
              "      <td>2.5</td>\n",
              "      <td>2020-08-30</td>\n",
              "      <td>2020-09-13</td>\n",
              "    </tr>\n",
              "    <tr>\n",
              "      <th>7</th>\n",
              "      <td>Social Distancing Campaign</td>\n",
              "      <td>2</td>\n",
              "      <td>2020-09-14</td>\n",
              "      <td>2020-10-11</td>\n",
              "    </tr>\n",
              "    <tr>\n",
              "      <th>8</th>\n",
              "      <td>Social Distancing Campaign</td>\n",
              "      <td>1</td>\n",
              "      <td>2020-10-12</td>\n",
              "      <td>2020-11-18</td>\n",
              "    </tr>\n",
              "    <tr>\n",
              "      <th>9</th>\n",
              "      <td>Social Distancing Campaign</td>\n",
              "      <td>1.5</td>\n",
              "      <td>2020-11-19</td>\n",
              "      <td>2020-11-23</td>\n",
              "    </tr>\n",
              "    <tr>\n",
              "      <th>10</th>\n",
              "      <td>Social Distancing Campaign</td>\n",
              "      <td>2</td>\n",
              "      <td>2020-11-24</td>\n",
              "      <td>2020-12-07</td>\n",
              "    </tr>\n",
              "    <tr>\n",
              "      <th>11</th>\n",
              "      <td>Social Distancing Campaign</td>\n",
              "      <td>2.5</td>\n",
              "      <td>2020-12-08</td>\n",
              "      <td>2020-12-23</td>\n",
              "    </tr>\n",
              "    <tr>\n",
              "      <th>12</th>\n",
              "      <td>Social Distancing Campaign</td>\n",
              "      <td>2.5</td>\n",
              "      <td>2020-12-23</td>\n",
              "      <td>2021-01-03</td>\n",
              "    </tr>\n",
              "    <tr>\n",
              "      <th>13</th>\n",
              "      <td>Social Distancing Campaign</td>\n",
              "      <td>2.5</td>\n",
              "      <td>2021-01-04</td>\n",
              "      <td>2021-01-17</td>\n",
              "    </tr>\n",
              "    <tr>\n",
              "      <th>14</th>\n",
              "      <td>Social Distancing Campaign</td>\n",
              "      <td>2.5</td>\n",
              "      <td>2021-01-18</td>\n",
              "      <td>2021-01-31</td>\n",
              "    </tr>\n",
              "    <tr>\n",
              "      <th>15</th>\n",
              "      <td>Social Distancing Campaign</td>\n",
              "      <td>2.5</td>\n",
              "      <td>2021-02-01</td>\n",
              "      <td>2021-02-14</td>\n",
              "    </tr>\n",
              "    <tr>\n",
              "      <th>16</th>\n",
              "      <td>Social Distancing Campaign</td>\n",
              "      <td>2</td>\n",
              "      <td>2021-02-15</td>\n",
              "      <td>2021-02-28</td>\n",
              "    </tr>\n",
              "    <tr>\n",
              "      <th>17</th>\n",
              "      <td>Social Distancing Campaign</td>\n",
              "      <td>2</td>\n",
              "      <td>2021-03-01</td>\n",
              "      <td>2021-04-11</td>\n",
              "    </tr>\n",
              "  </tbody>\n",
              "</table>\n",
              "</div>"
            ],
            "text/plain": [
              "                    gov_policy Level  start_date    end_date\n",
              "0   Social Distancing Campaign     2  2020-03-22  2020-04-05\n",
              "1   Social Distancing Campaign     2  2020-04-06  2020-04-19\n",
              "2   Social Distancing Campaign     1  2020-04-20  2020-05-05\n",
              "3     Distancing in daily life     1  2020-05-06  2020-06-27\n",
              "4   Social Distancing Campaign     1  2020-06-28  2020-08-15\n",
              "5   Social Distancing Campaign     2  2020-08-16  2020-08-29\n",
              "6   Social Distancing Campaign   2.5  2020-08-30  2020-09-13\n",
              "7   Social Distancing Campaign     2  2020-09-14  2020-10-11\n",
              "8   Social Distancing Campaign     1  2020-10-12  2020-11-18\n",
              "9   Social Distancing Campaign   1.5  2020-11-19  2020-11-23\n",
              "10  Social Distancing Campaign     2  2020-11-24  2020-12-07\n",
              "11  Social Distancing Campaign   2.5  2020-12-08  2020-12-23\n",
              "12  Social Distancing Campaign   2.5  2020-12-23  2021-01-03\n",
              "13  Social Distancing Campaign   2.5  2021-01-04  2021-01-17\n",
              "14  Social Distancing Campaign   2.5  2021-01-18  2021-01-31\n",
              "15  Social Distancing Campaign   2.5  2021-02-01  2021-02-14\n",
              "16  Social Distancing Campaign     2  2021-02-15  2021-02-28\n",
              "17  Social Distancing Campaign     2  2021-03-01  2021-04-11"
            ]
          },
          "metadata": {
            "tags": []
          },
          "execution_count": 11
        }
      ]
    },
    {
      "cell_type": "code",
      "metadata": {
        "id": "vzLBCGEp7gDY"
      },
      "source": [
        "data = data.reset_index(drop =True)"
      ],
      "execution_count": 12,
      "outputs": []
    },
    {
      "cell_type": "code",
      "metadata": {
        "colab": {
          "base_uri": "https://localhost:8080/",
          "height": 265
        },
        "id": "N4zuqUp1Rcvs",
        "outputId": "889ce3a3-2a9d-455b-e8b8-44f1288c72c8"
      },
      "source": [
        "from datetime import datetime\n",
        "import pandas as pd\n",
        "import matplotlib.pyplot as plt\n",
        "import matplotlib.dates as dt\n",
        "\n",
        "start_date = pd.to_datetime(data.start_date)\n",
        "end_date = pd.to_datetime(data.end_date)\n",
        "\n",
        "fig = plt.figure()\n",
        "ax = fig.add_subplot(111)\n",
        "ax = ax.xaxis_date()\n",
        "ax = plt.hlines(data.index, dt.date2num(start_date), dt.date2num(end_date))\n"
      ],
      "execution_count": 13,
      "outputs": [
        {
          "output_type": "display_data",
          "data": {
            "image/png": "[encoded data removed]",
            "text/plain": [
              "<Figure size 432x288 with 1 Axes>"
            ]
          },
          "metadata": {
            "tags": [],
            "needs_background": "light"
          }
        }
      ]
    },
    {
      "cell_type": "code",
      "metadata": {
        "colab": {
          "base_uri": "https://localhost:8080/",
          "height": 265
        },
        "id": "Qi0IFfH6Rtg4",
        "outputId": "e5f6f407-df27-4a14-8df4-366777db75ad"
      },
      "source": [
        "from datetime import datetime\n",
        "import pandas as pd\n",
        "import matplotlib.pyplot as plt\n",
        "import matplotlib.dates as dt\n",
        "\n",
        "start_date = pd.to_datetime(data.start_date)\n",
        "end_date = pd.to_datetime(data.end_date)\n",
        "\n",
        "fig = plt.figure()\n",
        "ax = fig.add_subplot(111)\n",
        "ax = ax.xaxis_date()\n",
        "plt.yticks([1, 1.5, 2, 2.5])\n",
        "ax = plt.hlines(data['Level'], dt.date2num(start_date), dt.date2num(end_date))"
      ],
      "execution_count": 14,
      "outputs": [
        {
          "output_type": "display_data",
          "data": {
            "image/png": "[encoded data removed]",
            "text/plain": [
              "<Figure size 432x288 with 1 Axes>"
            ]
          },
          "metadata": {
            "tags": [],
            "needs_background": "light"
          }
        }
      ]
    },
    {
      "cell_type": "code",
      "metadata": {
        "colab": {
          "base_uri": "https://localhost:8080/"
        },
        "id": "AlyT41f9yT7S",
        "outputId": "8489d854-7210-4285-c340-da262a54ee2d"
      },
      "source": [
        "xlabel = []\n",
        "# data.start_date = pd.to_datetime(data.start_date)\n",
        "# data.end_date = pd.to_datetime(data.end_date)\n",
        "for i in range (len(data['Level'])-1):\n",
        "  if data.loc[i,'Level'] != data.loc[i+1,'Level']:\n",
        "    xlabel.append(data.loc[i,'end_date'])\n",
        "print(xlabel)"
      ],
      "execution_count": 15,
      "outputs": [
        {
          "output_type": "stream",
          "text": [
            "['2020-04-19', '2020-08-15', '2020-08-29', '2020-09-13', '2020-10-11', '2020-11-18', '2020-11-23', '2020-12-07', '2021-02-14']\n"
          ],
          "name": "stdout"
        }
      ]
    },
    {
      "cell_type": "code",
      "metadata": {
        "colab": {
          "base_uri": "https://localhost:8080/",
          "height": 211
        },
        "id": "UIFqq4hYF2sY",
        "outputId": "36069bdd-6909-40b3-d462-6770005a8eab"
      },
      "source": [
        "fig = plt.figure(figsize=(8, 3))\n",
        "ax = fig.add_subplot(111)\n",
        "ax = ax.xaxis_date()\n",
        "xlabel = pd.to_datetime(xlabel)\n",
        "plt.xticks(xlabel)\n",
        "plt.yticks([1, 1.5, 2, 2.5])\n",
        "ax = plt.hlines(data['Level'], dt.date2num(start_date), dt.date2num(end_date))"
      ],
      "execution_count": 18,
      "outputs": [
        {
          "output_type": "display_data",
          "data": {
            "image/png": "[encoded data removed]",
            "text/plain": [
              "<Figure size 576x216 with 1 Axes>"
            ]
          },
          "metadata": {
            "tags": [],
            "needs_background": "light"
          }
        }
      ]
    },
    {
      "cell_type": "markdown",
      "metadata": {
        "id": "G9FigOhmChvd"
      },
      "source": [
        "# **pyecharts 전 버전**"
      ]
    },
    {
      "cell_type": "code",
      "metadata": {
        "colab": {
          "base_uri": "https://localhost:8080/"
        },
        "id": "QGitOY8Jd6Nk",
        "outputId": "29b2ba8d-e012-4c2a-ff1c-2f01483b11ca"
      },
      "source": [
        "!pip install pyecharts==0.5.8"
      ],
      "execution_count": 19,
      "outputs": [
        {
          "output_type": "stream",
          "text": [
            "Requirement already satisfied: pyecharts==0.5.8 in /usr/local/lib/python3.7/dist-packages (0.5.8)\n",
            "Requirement already satisfied: future in /usr/local/lib/python3.7/dist-packages (from pyecharts==0.5.8) (0.16.0)\n",
            "Requirement already satisfied: jupyter-echarts-pypkg==0.1.2 in /usr/local/lib/python3.7/dist-packages (from pyecharts==0.5.8) (0.1.2)\n",
            "Requirement already satisfied: pillow in /usr/local/lib/python3.7/dist-packages (from pyecharts==0.5.8) (7.1.2)\n",
            "Requirement already satisfied: jinja2 in /usr/local/lib/python3.7/dist-packages (from pyecharts==0.5.8) (2.11.3)\n",
            "Requirement already satisfied: lml==0.0.2 in /usr/local/lib/python3.7/dist-packages (from pyecharts==0.5.8) (0.0.2)\n",
            "Requirement already satisfied: pyecharts-javascripthon==0.0.6 in /usr/local/lib/python3.7/dist-packages (from pyecharts==0.5.8) (0.0.6)\n",
            "Requirement already satisfied: pyecharts-jupyter-installer==0.0.3 in /usr/local/lib/python3.7/dist-packages (from jupyter-echarts-pypkg==0.1.2->pyecharts==0.5.8) (0.0.3)\n",
            "Requirement already satisfied: MarkupSafe>=0.23 in /usr/local/lib/python3.7/dist-packages (from jinja2->pyecharts==0.5.8) (1.1.1)\n",
            "Requirement already satisfied: javascripthon>=0.10; python_version > \"3.4\" in /usr/local/lib/python3.7/dist-packages (from pyecharts-javascripthon==0.0.6->pyecharts==0.5.8) (0.11)\n",
            "Requirement already satisfied: dukpy in /usr/local/lib/python3.7/dist-packages (from javascripthon>=0.10; python_version > \"3.4\"->pyecharts-javascripthon==0.0.6->pyecharts==0.5.8) (0.2.3)\n",
            "Requirement already satisfied: macropy3==1.1.0b2 in /usr/local/lib/python3.7/dist-packages (from javascripthon>=0.10; python_version > \"3.4\"->pyecharts-javascripthon==0.0.6->pyecharts==0.5.8) (1.1.0b2)\n",
            "Requirement already satisfied: setuptools in /usr/local/lib/python3.7/dist-packages (from javascripthon>=0.10; python_version > \"3.4\"->pyecharts-javascripthon==0.0.6->pyecharts==0.5.8) (54.2.0)\n"
          ],
          "name": "stdout"
        }
      ]
    },
    {
      "cell_type": "code",
      "metadata": {
        "colab": {
          "base_uri": "https://localhost:8080/",
          "height": 637
        },
        "id": "ppLoYke1fyU0",
        "outputId": "c776c30d-440f-4534-e87d-c11a578a4658"
      },
      "source": [
        "from pyecharts import Bar\n",
        "from pyecharts import Line\n",
        "import sys\n",
        "import numpy as np\n",
        "import pandas as pd\n",
        "import matplotlib.pyplot as plt\n",
        "import seaborn as sns\n",
        "from datetime import datetime\n",
        "%matplotlib inline\n",
        "\n",
        "# name = list(data.start_date)\n",
        "# confirmed = list(data.Level)\n",
        "\n",
        "\n",
        "# line = Line(\"거리두기 시작 날짜\")\n",
        "\n",
        "# line.add(\"확진자 수\",name,confirmed, is_random=True, mark_point=['max'])\n",
        "\n",
        "line = Line(\"코로나바이러스 확진자 추이\")\n",
        "line.add(\"누적 확진자\", dt.date2num(start_date), data['Level'], mark_point = [\"max\"])\n",
        "line.height = 600\n",
        "line.weight = 1000\n",
        "line"
      ],
      "execution_count": 24,
      "outputs": [
        {
          "output_type": "execute_result",
          "data": {
            "text/html": [
              "<script>\n",
              "    require.config({\n",
              "        paths: {\n",
              "            'echarts': '/nbextensions/echarts/echarts.min'\n",
              "        }\n",
              "    });\n",
              "</script>\n",
              "    <div id=\"ea82386d4ddd4579a2da7ac4265a9d71\" style=\"width:800px;height:600px;\"></div>\n",
              "\n",
              "\n",
              "<script>\n",
              "    require(['echarts'], function(echarts) {\n",
              "        \n",
              "var myChart_ea82386d4ddd4579a2da7ac4265a9d71 = echarts.init(document.getElementById('ea82386d4ddd4579a2da7ac4265a9d71'), 'light', {renderer: 'canvas'});\n",
              "\n",
              "var option_ea82386d4ddd4579a2da7ac4265a9d71 = {\n",
              "    \"title\": [\n",
              "        {\n",
              "            \"text\": \"\\ucf54\\ub85c\\ub098\\ubc14\\uc774\\ub7ec\\uc2a4 \\ud655\\uc9c4\\uc790 \\ucd94\\uc774\",\n",
              "            \"left\": \"auto\",\n",
              "            \"top\": \"auto\",\n",
              "            \"textStyle\": {\n",
              "                \"fontSize\": 18\n",
              "            },\n",
              "            \"subtextStyle\": {\n",
              "                \"fontSize\": 12\n",
              "            }\n",
              "        }\n",
              "    ],\n",
              "    \"toolbox\": {\n",
              "        \"show\": true,\n",
              "        \"orient\": \"vertical\",\n",
              "        \"left\": \"95%\",\n",
              "        \"top\": \"center\",\n",
              "        \"feature\": {\n",
              "            \"saveAsImage\": {\n",
              "                \"show\": true,\n",
              "                \"title\": \"\\u4e0b\\u8f7d\\u56fe\\u7247\"\n",
              "            },\n",
              "            \"restore\": {\n",
              "                \"show\": true\n",
              "            },\n",
              "            \"dataView\": {\n",
              "                \"show\": true\n",
              "            }\n",
              "        }\n",
              "    },\n",
              "    \"series_id\": 4531598,\n",
              "    \"tooltip\": {\n",
              "        \"trigger\": \"item\",\n",
              "        \"triggerOn\": \"mousemove|click\",\n",
              "        \"axisPointer\": {\n",
              "            \"type\": \"line\"\n",
              "        },\n",
              "        \"textStyle\": {\n",
              "            \"fontSize\": 14\n",
              "        },\n",
              "        \"backgroundColor\": \"rgba(50,50,50,0.7)\",\n",
              "        \"borderColor\": \"#333\",\n",
              "        \"borderWidth\": 0\n",
              "    },\n",
              "    \"series\": [\n",
              "        {\n",
              "            \"type\": \"line\",\n",
              "            \"name\": \"\\ub204\\uc801 \\ud655\\uc9c4\\uc790\",\n",
              "            \"symbol\": \"emptyCircle\",\n",
              "            \"symbolSize\": 4,\n",
              "            \"smooth\": false,\n",
              "            \"step\": false,\n",
              "            \"showSymbol\": true,\n",
              "            \"data\": [\n",
              "                [\n",
              "                    737506.0,\n",
              "                    2\n",
              "                ],\n",
              "                [\n",
              "                    737521.0,\n",
              "                    2\n",
              "                ],\n",
              "                [\n",
              "                    737535.0,\n",
              "                    1\n",
              "                ],\n",
              "                [\n",
              "                    737551.0,\n",
              "                    1\n",
              "                ],\n",
              "                [\n",
              "                    737604.0,\n",
              "                    1\n",
              "                ],\n",
              "                [\n",
              "                    737653.0,\n",
              "                    2\n",
              "                ],\n",
              "                [\n",
              "                    737667.0,\n",
              "                    2.5\n",
              "                ],\n",
              "                [\n",
              "                    737682.0,\n",
              "                    2\n",
              "                ],\n",
              "                [\n",
              "                    737710.0,\n",
              "                    1\n",
              "                ],\n",
              "                [\n",
              "                    737748.0,\n",
              "                    1.5\n",
              "                ],\n",
              "                [\n",
              "                    737753.0,\n",
              "                    2\n",
              "                ],\n",
              "                [\n",
              "                    737767.0,\n",
              "                    2.5\n",
              "                ],\n",
              "                [\n",
              "                    737782.0,\n",
              "                    2.5\n",
              "                ],\n",
              "                [\n",
              "                    737794.0,\n",
              "                    2.5\n",
              "                ],\n",
              "                [\n",
              "                    737808.0,\n",
              "                    2.5\n",
              "                ],\n",
              "                [\n",
              "                    737822.0,\n",
              "                    2.5\n",
              "                ],\n",
              "                [\n",
              "                    737836.0,\n",
              "                    2\n",
              "                ],\n",
              "                [\n",
              "                    737850.0,\n",
              "                    2\n",
              "                ]\n",
              "            ],\n",
              "            \"label\": {\n",
              "                \"normal\": {\n",
              "                    \"show\": false,\n",
              "                    \"position\": \"top\",\n",
              "                    \"textStyle\": {\n",
              "                        \"fontSize\": 12\n",
              "                    }\n",
              "                },\n",
              "                \"emphasis\": {\n",
              "                    \"show\": true,\n",
              "                    \"textStyle\": {\n",
              "                        \"fontSize\": 12\n",
              "                    }\n",
              "                }\n",
              "            },\n",
              "            \"lineStyle\": {\n",
              "                \"normal\": {\n",
              "                    \"width\": 1,\n",
              "                    \"opacity\": 1,\n",
              "                    \"curveness\": 0,\n",
              "                    \"type\": \"solid\"\n",
              "                }\n",
              "            },\n",
              "            \"areaStyle\": {\n",
              "                \"opacity\": 0\n",
              "            },\n",
              "            \"markPoint\": {\n",
              "                \"data\": [\n",
              "                    {\n",
              "                        \"type\": \"max\",\n",
              "                        \"name\": \"Maximum\",\n",
              "                        \"symbol\": \"pin\",\n",
              "                        \"symbolSize\": 50,\n",
              "                        \"label\": {\n",
              "                            \"normal\": {\n",
              "                                \"textStyle\": {\n",
              "                                    \"color\": \"#fff\"\n",
              "                                }\n",
              "                            }\n",
              "                        }\n",
              "                    }\n",
              "                ]\n",
              "            },\n",
              "            \"markLine\": {\n",
              "                \"data\": []\n",
              "            },\n",
              "            \"seriesId\": 4531598\n",
              "        }\n",
              "    ],\n",
              "    \"legend\": [\n",
              "        {\n",
              "            \"data\": [\n",
              "                \"\\ub204\\uc801 \\ud655\\uc9c4\\uc790\"\n",
              "            ],\n",
              "            \"selectedMode\": \"multiple\",\n",
              "            \"show\": true,\n",
              "            \"left\": \"center\",\n",
              "            \"top\": \"top\",\n",
              "            \"orient\": \"horizontal\",\n",
              "            \"textStyle\": {\n",
              "                \"fontSize\": 12\n",
              "            }\n",
              "        }\n",
              "    ],\n",
              "    \"xAxis\": [\n",
              "        {\n",
              "            \"show\": true,\n",
              "            \"nameLocation\": \"middle\",\n",
              "            \"nameGap\": 25,\n",
              "            \"nameTextStyle\": {\n",
              "                \"fontSize\": 14\n",
              "            },\n",
              "            \"axisTick\": {\n",
              "                \"alignWithLabel\": false\n",
              "            },\n",
              "            \"inverse\": false,\n",
              "            \"boundaryGap\": true,\n",
              "            \"type\": \"category\",\n",
              "            \"splitLine\": {\n",
              "                \"show\": false\n",
              "            },\n",
              "            \"axisLine\": {\n",
              "                \"lineStyle\": {\n",
              "                    \"width\": 1\n",
              "                }\n",
              "            },\n",
              "            \"axisLabel\": {\n",
              "                \"interval\": \"auto\",\n",
              "                \"rotate\": 0,\n",
              "                \"margin\": 8,\n",
              "                \"textStyle\": {\n",
              "                    \"fontSize\": 12\n",
              "                }\n",
              "            },\n",
              "            \"data\": [\n",
              "                737506.0,\n",
              "                737521.0,\n",
              "                737535.0,\n",
              "                737551.0,\n",
              "                737604.0,\n",
              "                737653.0,\n",
              "                737667.0,\n",
              "                737682.0,\n",
              "                737710.0,\n",
              "                737748.0,\n",
              "                737753.0,\n",
              "                737767.0,\n",
              "                737782.0,\n",
              "                737794.0,\n",
              "                737808.0,\n",
              "                737822.0,\n",
              "                737836.0,\n",
              "                737850.0\n",
              "            ]\n",
              "        }\n",
              "    ],\n",
              "    \"yAxis\": [\n",
              "        {\n",
              "            \"show\": true,\n",
              "            \"nameLocation\": \"middle\",\n",
              "            \"nameGap\": 25,\n",
              "            \"nameTextStyle\": {\n",
              "                \"fontSize\": 14\n",
              "            },\n",
              "            \"axisTick\": {\n",
              "                \"alignWithLabel\": false\n",
              "            },\n",
              "            \"inverse\": false,\n",
              "            \"boundaryGap\": true,\n",
              "            \"type\": \"value\",\n",
              "            \"splitLine\": {\n",
              "                \"show\": true\n",
              "            },\n",
              "            \"axisLine\": {\n",
              "                \"lineStyle\": {\n",
              "                    \"width\": 1\n",
              "                }\n",
              "            },\n",
              "            \"axisLabel\": {\n",
              "                \"interval\": \"auto\",\n",
              "                \"formatter\": \"{value} \",\n",
              "                \"rotate\": 0,\n",
              "                \"margin\": 8,\n",
              "                \"textStyle\": {\n",
              "                    \"fontSize\": 12\n",
              "                }\n",
              "            }\n",
              "        }\n",
              "    ],\n",
              "    \"color\": [\n",
              "        \"#c23531\",\n",
              "        \"#2f4554\",\n",
              "        \"#61a0a8\",\n",
              "        \"#d48265\",\n",
              "        \"#749f83\",\n",
              "        \"#ca8622\",\n",
              "        \"#bda29a\",\n",
              "        \"#6e7074\",\n",
              "        \"#546570\",\n",
              "        \"#c4ccd3\",\n",
              "        \"#f05b72\",\n",
              "        \"#ef5b9c\",\n",
              "        \"#f47920\",\n",
              "        \"#905a3d\",\n",
              "        \"#fab27b\",\n",
              "        \"#2a5caa\",\n",
              "        \"#444693\",\n",
              "        \"#726930\",\n",
              "        \"#b2d235\",\n",
              "        \"#6d8346\",\n",
              "        \"#ac6767\",\n",
              "        \"#1d953f\",\n",
              "        \"#6950a1\",\n",
              "        \"#918597\",\n",
              "        \"#f6f5ec\"\n",
              "    ]\n",
              "};\n",
              "myChart_ea82386d4ddd4579a2da7ac4265a9d71.setOption(option_ea82386d4ddd4579a2da7ac4265a9d71);\n",
              "\n",
              "    });\n",
              "</script>\n"
            ],
            "text/plain": [
              "<pyecharts.charts.line.Line at 0x7f25f40b39d0>"
            ]
          },
          "metadata": {
            "tags": []
          },
          "execution_count": 24
        }
      ]
    },
    {
      "cell_type": "code",
      "metadata": {
        "colab": {
          "base_uri": "https://localhost:8080/",
          "height": 637
        },
        "id": "-LfN07mzBw1n",
        "outputId": "77c443b6-3d67-4b47-d25b-13efdefc143c"
      },
      "source": [
        "bar = Bar(\"거리두기 시작 날짜\")\n",
        "bar.add(\"거리두기 단계\", data['start_date'], data['Level'], mark_point = [\"max\", \"min\"])\n",
        "bar.height = 600\n",
        "bar.weight = 800\n",
        "bar"
      ],
      "execution_count": 25,
      "outputs": [
        {
          "output_type": "execute_result",
          "data": {
            "text/html": [
              "<script>\n",
              "    require.config({\n",
              "        paths: {\n",
              "            'echarts': '/nbextensions/echarts/echarts.min'\n",
              "        }\n",
              "    });\n",
              "</script>\n",
              "    <div id=\"d265b63a0283413189207518794da940\" style=\"width:800px;height:600px;\"></div>\n",
              "\n",
              "\n",
              "<script>\n",
              "    require(['echarts'], function(echarts) {\n",
              "        \n",
              "var myChart_d265b63a0283413189207518794da940 = echarts.init(document.getElementById('d265b63a0283413189207518794da940'), 'light', {renderer: 'canvas'});\n",
              "\n",
              "var option_d265b63a0283413189207518794da940 = {\n",
              "    \"title\": [\n",
              "        {\n",
              "            \"text\": \"\\uac70\\ub9ac\\ub450\\uae30 \\uc2dc\\uc791 \\ub0a0\\uc9dc\",\n",
              "            \"left\": \"auto\",\n",
              "            \"top\": \"auto\",\n",
              "            \"textStyle\": {\n",
              "                \"fontSize\": 18\n",
              "            },\n",
              "            \"subtextStyle\": {\n",
              "                \"fontSize\": 12\n",
              "            }\n",
              "        }\n",
              "    ],\n",
              "    \"toolbox\": {\n",
              "        \"show\": true,\n",
              "        \"orient\": \"vertical\",\n",
              "        \"left\": \"95%\",\n",
              "        \"top\": \"center\",\n",
              "        \"feature\": {\n",
              "            \"saveAsImage\": {\n",
              "                \"show\": true,\n",
              "                \"title\": \"\\u4e0b\\u8f7d\\u56fe\\u7247\"\n",
              "            },\n",
              "            \"restore\": {\n",
              "                \"show\": true\n",
              "            },\n",
              "            \"dataView\": {\n",
              "                \"show\": true\n",
              "            }\n",
              "        }\n",
              "    },\n",
              "    \"series_id\": 612117,\n",
              "    \"tooltip\": {\n",
              "        \"trigger\": \"item\",\n",
              "        \"triggerOn\": \"mousemove|click\",\n",
              "        \"axisPointer\": {\n",
              "            \"type\": \"line\"\n",
              "        },\n",
              "        \"textStyle\": {\n",
              "            \"fontSize\": 14\n",
              "        },\n",
              "        \"backgroundColor\": \"rgba(50,50,50,0.7)\",\n",
              "        \"borderColor\": \"#333\",\n",
              "        \"borderWidth\": 0\n",
              "    },\n",
              "    \"series\": [\n",
              "        {\n",
              "            \"type\": \"bar\",\n",
              "            \"name\": \"\\uac70\\ub9ac\\ub450\\uae30 \\ub2e8\\uacc4\",\n",
              "            \"data\": [\n",
              "                2.0,\n",
              "                2.0,\n",
              "                1.0,\n",
              "                1.0,\n",
              "                1.0,\n",
              "                2.0,\n",
              "                2.5,\n",
              "                2.0,\n",
              "                1.0,\n",
              "                1.5,\n",
              "                2.0,\n",
              "                2.5,\n",
              "                2.5,\n",
              "                2.5,\n",
              "                2.5,\n",
              "                2.5,\n",
              "                2.0,\n",
              "                2.0\n",
              "            ],\n",
              "            \"barCategoryGap\": \"20%\",\n",
              "            \"label\": {\n",
              "                \"normal\": {\n",
              "                    \"show\": false,\n",
              "                    \"position\": \"top\",\n",
              "                    \"textStyle\": {\n",
              "                        \"fontSize\": 12\n",
              "                    }\n",
              "                },\n",
              "                \"emphasis\": {\n",
              "                    \"show\": true,\n",
              "                    \"textStyle\": {\n",
              "                        \"fontSize\": 12\n",
              "                    }\n",
              "                }\n",
              "            },\n",
              "            \"markPoint\": {\n",
              "                \"data\": [\n",
              "                    {\n",
              "                        \"type\": \"max\",\n",
              "                        \"name\": \"Maximum\",\n",
              "                        \"symbol\": \"pin\",\n",
              "                        \"symbolSize\": 50,\n",
              "                        \"label\": {\n",
              "                            \"normal\": {\n",
              "                                \"textStyle\": {\n",
              "                                    \"color\": \"#fff\"\n",
              "                                }\n",
              "                            }\n",
              "                        }\n",
              "                    },\n",
              "                    {\n",
              "                        \"type\": \"min\",\n",
              "                        \"name\": \"Minimum\",\n",
              "                        \"symbol\": \"pin\",\n",
              "                        \"symbolSize\": 50,\n",
              "                        \"label\": {\n",
              "                            \"normal\": {\n",
              "                                \"textStyle\": {\n",
              "                                    \"color\": \"#fff\"\n",
              "                                }\n",
              "                            }\n",
              "                        }\n",
              "                    }\n",
              "                ]\n",
              "            },\n",
              "            \"markLine\": {\n",
              "                \"data\": []\n",
              "            },\n",
              "            \"seriesId\": 612117\n",
              "        }\n",
              "    ],\n",
              "    \"legend\": [\n",
              "        {\n",
              "            \"data\": [\n",
              "                \"\\uac70\\ub9ac\\ub450\\uae30 \\ub2e8\\uacc4\"\n",
              "            ],\n",
              "            \"selectedMode\": \"multiple\",\n",
              "            \"show\": true,\n",
              "            \"left\": \"center\",\n",
              "            \"top\": \"top\",\n",
              "            \"orient\": \"horizontal\",\n",
              "            \"textStyle\": {\n",
              "                \"fontSize\": 12\n",
              "            }\n",
              "        }\n",
              "    ],\n",
              "    \"xAxis\": [\n",
              "        {\n",
              "            \"show\": true,\n",
              "            \"nameLocation\": \"middle\",\n",
              "            \"nameGap\": 25,\n",
              "            \"nameTextStyle\": {\n",
              "                \"fontSize\": 14\n",
              "            },\n",
              "            \"axisTick\": {\n",
              "                \"alignWithLabel\": false\n",
              "            },\n",
              "            \"inverse\": false,\n",
              "            \"boundaryGap\": true,\n",
              "            \"type\": \"category\",\n",
              "            \"splitLine\": {\n",
              "                \"show\": false\n",
              "            },\n",
              "            \"axisLine\": {\n",
              "                \"lineStyle\": {\n",
              "                    \"width\": 1\n",
              "                }\n",
              "            },\n",
              "            \"axisLabel\": {\n",
              "                \"interval\": \"auto\",\n",
              "                \"rotate\": 0,\n",
              "                \"margin\": 8,\n",
              "                \"textStyle\": {\n",
              "                    \"fontSize\": 12\n",
              "                }\n",
              "            },\n",
              "            \"data\": [\n",
              "                \"2020-03-22\",\n",
              "                \"2020-04-06\",\n",
              "                \"2020-04-20\",\n",
              "                \"2020-05-06\",\n",
              "                \"2020-06-28\",\n",
              "                \"2020-08-16\",\n",
              "                \"2020-08-30\",\n",
              "                \"2020-09-14\",\n",
              "                \"2020-10-12\",\n",
              "                \"2020-11-19\",\n",
              "                \"2020-11-24\",\n",
              "                \"2020-12-08\",\n",
              "                \"2020-12-23\",\n",
              "                \"2021-01-04\",\n",
              "                \"2021-01-18\",\n",
              "                \"2021-02-01\",\n",
              "                \"2021-02-15\",\n",
              "                \"2021-03-01\"\n",
              "            ]\n",
              "        }\n",
              "    ],\n",
              "    \"yAxis\": [\n",
              "        {\n",
              "            \"show\": true,\n",
              "            \"nameLocation\": \"middle\",\n",
              "            \"nameGap\": 25,\n",
              "            \"nameTextStyle\": {\n",
              "                \"fontSize\": 14\n",
              "            },\n",
              "            \"axisTick\": {\n",
              "                \"alignWithLabel\": false\n",
              "            },\n",
              "            \"inverse\": false,\n",
              "            \"boundaryGap\": true,\n",
              "            \"type\": \"value\",\n",
              "            \"splitLine\": {\n",
              "                \"show\": true\n",
              "            },\n",
              "            \"axisLine\": {\n",
              "                \"lineStyle\": {\n",
              "                    \"width\": 1\n",
              "                }\n",
              "            },\n",
              "            \"axisLabel\": {\n",
              "                \"interval\": \"auto\",\n",
              "                \"formatter\": \"{value} \",\n",
              "                \"rotate\": 0,\n",
              "                \"margin\": 8,\n",
              "                \"textStyle\": {\n",
              "                    \"fontSize\": 12\n",
              "                }\n",
              "            }\n",
              "        }\n",
              "    ],\n",
              "    \"color\": [\n",
              "        \"#c23531\",\n",
              "        \"#2f4554\",\n",
              "        \"#61a0a8\",\n",
              "        \"#d48265\",\n",
              "        \"#749f83\",\n",
              "        \"#ca8622\",\n",
              "        \"#bda29a\",\n",
              "        \"#6e7074\",\n",
              "        \"#546570\",\n",
              "        \"#c4ccd3\",\n",
              "        \"#f05b72\",\n",
              "        \"#ef5b9c\",\n",
              "        \"#f47920\",\n",
              "        \"#905a3d\",\n",
              "        \"#fab27b\",\n",
              "        \"#2a5caa\",\n",
              "        \"#444693\",\n",
              "        \"#726930\",\n",
              "        \"#b2d235\",\n",
              "        \"#6d8346\",\n",
              "        \"#ac6767\",\n",
              "        \"#1d953f\",\n",
              "        \"#6950a1\",\n",
              "        \"#918597\",\n",
              "        \"#f6f5ec\"\n",
              "    ]\n",
              "};\n",
              "myChart_d265b63a0283413189207518794da940.setOption(option_d265b63a0283413189207518794da940);\n",
              "\n",
              "    });\n",
              "</script>\n"
            ],
            "text/plain": [
              "<pyecharts.charts.bar.Bar at 0x7f25f4095710>"
            ]
          },
          "metadata": {
            "tags": []
          },
          "execution_count": 25
        }
      ]
    },
    {
      "cell_type": "markdown",
      "metadata": {
        "id": "mM4CfVmvCpbF"
      },
      "source": [
        "# **pyecharts 현 버전**"
      ]
    },
    {
      "cell_type": "code",
      "metadata": {
        "id": "EQh-TBwNCzep"
      },
      "source": [
        "# !pip install pyecharts"
      ],
      "execution_count": null,
      "outputs": []
    },
    {
      "cell_type": "code",
      "metadata": {
        "id": "h3INc_3HC9R5"
      },
      "source": [
        "'''\n",
        "from pyecharts.charts import Line\n",
        "from pyecharts import options as opts\n",
        "\n",
        "# \n",
        "cate = ['Apple', 'Huawei', 'Xiaomi', 'Oppo', 'Vivo', 'Meizu']\n",
        "data1 = [123, 153, 89, 107, 98, 23]\n",
        "data2 = [56, 77, 93, 68, 45, 67]\n",
        "\n",
        "\"\"\"\n",
        ":\n",
        "1. is_smooth  OR \n",
        "2. markline_opts  OR \n",
        "\"\"\"\n",
        "line = (Line()\n",
        "       .add_xaxis(cate)\n",
        "       .add_yaxis('', data1, \n",
        "                  markline_opts=opts.MarkLineOpts(data=[opts.MarkLineItem(type_=\"average\")]))\n",
        "       .add_yaxis('', data2, \n",
        "                  is_smooth=True, \n",
        "                  markpoint_opts=opts.MarkPointOpts(data=[opts.MarkPointItem(name=\"\", \n",
        "                                                                             coord=[cate[2], data2[2]], value=data2[2])]))\n",
        "       .set_global_opts(title_opts=opts.TitleOpts(title=\"Line-\", subtitle=\"\"))\n",
        "      )\n",
        "\n",
        "line.render_notebook()\n",
        "'''"
      ],
      "execution_count": null,
      "outputs": []
    }
  ]
}